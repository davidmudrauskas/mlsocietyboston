{
 "cells": [
  {
   "cell_type": "code",
   "execution_count": 1,
   "metadata": {
    "collapsed": true
   },
   "outputs": [],
   "source": [
    "train_full = pd.read_pickle('./train_full.pkl')"
   ]
  },
  {
   "cell_type": "code",
   "execution_count": 2,
   "metadata": {
    "collapsed": false,
    "scrolled": true
   },
   "outputs": [
    {
     "data": {
      "text/html": [
       "<div>\n",
       "<style scoped>\n",
       "    .dataframe tbody tr th:only-of-type {\n",
       "        vertical-align: middle;\n",
       "    }\n",
       "\n",
       "    .dataframe tbody tr th {\n",
       "        vertical-align: top;\n",
       "    }\n",
       "\n",
       "    .dataframe thead th {\n",
       "        text-align: right;\n",
       "    }\n",
       "</style>\n",
       "<table border=\"1\" class=\"dataframe\">\n",
       "  <thead>\n",
       "    <tr style=\"text-align: right;\">\n",
       "      <th></th>\n",
       "      <th>parcelid</th>\n",
       "      <th>logerror</th>\n",
       "      <th>transactiondate</th>\n",
       "      <th>airconditioningtypeid</th>\n",
       "      <th>architecturalstyletypeid</th>\n",
       "      <th>basementsqft</th>\n",
       "      <th>bathroomcnt</th>\n",
       "      <th>bedroomcnt</th>\n",
       "      <th>buildingclasstypeid</th>\n",
       "      <th>buildingqualitytypeid</th>\n",
       "      <th>...</th>\n",
       "      <th>structuretaxvaluedollarcnt</th>\n",
       "      <th>taxvaluedollarcnt</th>\n",
       "      <th>assessmentyear</th>\n",
       "      <th>landtaxvaluedollarcnt</th>\n",
       "      <th>taxamount</th>\n",
       "      <th>taxdelinquencyflag</th>\n",
       "      <th>taxdelinquencyyear</th>\n",
       "      <th>censustractandblock</th>\n",
       "      <th>month</th>\n",
       "      <th>day</th>\n",
       "    </tr>\n",
       "  </thead>\n",
       "  <tbody>\n",
       "    <tr>\n",
       "      <th>0</th>\n",
       "      <td>11016594</td>\n",
       "      <td>0.0276</td>\n",
       "      <td>2016-01-01</td>\n",
       "      <td>1</td>\n",
       "      <td>NaN</td>\n",
       "      <td>NaN</td>\n",
       "      <td>2.0</td>\n",
       "      <td>3.0</td>\n",
       "      <td>NaN</td>\n",
       "      <td>4</td>\n",
       "      <td>...</td>\n",
       "      <td>122754.0</td>\n",
       "      <td>360170.0</td>\n",
       "      <td>2015</td>\n",
       "      <td>237416.0</td>\n",
       "      <td>6735.88</td>\n",
       "      <td>NaN</td>\n",
       "      <td>NaN</td>\n",
       "      <td>6.03711e+13</td>\n",
       "      <td>1</td>\n",
       "      <td>1</td>\n",
       "    </tr>\n",
       "    <tr>\n",
       "      <th>1</th>\n",
       "      <td>14366692</td>\n",
       "      <td>-0.1684</td>\n",
       "      <td>2016-01-01</td>\n",
       "      <td>NaN</td>\n",
       "      <td>NaN</td>\n",
       "      <td>NaN</td>\n",
       "      <td>3.5</td>\n",
       "      <td>4.0</td>\n",
       "      <td>NaN</td>\n",
       "      <td>NaN</td>\n",
       "      <td>...</td>\n",
       "      <td>346458.0</td>\n",
       "      <td>585529.0</td>\n",
       "      <td>2015</td>\n",
       "      <td>239071.0</td>\n",
       "      <td>10153.02</td>\n",
       "      <td>NaN</td>\n",
       "      <td>NaN</td>\n",
       "      <td>NaN</td>\n",
       "      <td>1</td>\n",
       "      <td>1</td>\n",
       "    </tr>\n",
       "    <tr>\n",
       "      <th>2</th>\n",
       "      <td>12098116</td>\n",
       "      <td>-0.0040</td>\n",
       "      <td>2016-01-01</td>\n",
       "      <td>1</td>\n",
       "      <td>NaN</td>\n",
       "      <td>NaN</td>\n",
       "      <td>3.0</td>\n",
       "      <td>2.0</td>\n",
       "      <td>NaN</td>\n",
       "      <td>4</td>\n",
       "      <td>...</td>\n",
       "      <td>61994.0</td>\n",
       "      <td>119906.0</td>\n",
       "      <td>2015</td>\n",
       "      <td>57912.0</td>\n",
       "      <td>11484.48</td>\n",
       "      <td>NaN</td>\n",
       "      <td>NaN</td>\n",
       "      <td>6.03746e+13</td>\n",
       "      <td>1</td>\n",
       "      <td>1</td>\n",
       "    </tr>\n",
       "    <tr>\n",
       "      <th>3</th>\n",
       "      <td>12643413</td>\n",
       "      <td>0.0218</td>\n",
       "      <td>2016-01-02</td>\n",
       "      <td>1</td>\n",
       "      <td>NaN</td>\n",
       "      <td>NaN</td>\n",
       "      <td>2.0</td>\n",
       "      <td>2.0</td>\n",
       "      <td>NaN</td>\n",
       "      <td>4</td>\n",
       "      <td>...</td>\n",
       "      <td>171518.0</td>\n",
       "      <td>244880.0</td>\n",
       "      <td>2015</td>\n",
       "      <td>73362.0</td>\n",
       "      <td>3048.74</td>\n",
       "      <td>NaN</td>\n",
       "      <td>NaN</td>\n",
       "      <td>6.0373e+13</td>\n",
       "      <td>1</td>\n",
       "      <td>2</td>\n",
       "    </tr>\n",
       "    <tr>\n",
       "      <th>4</th>\n",
       "      <td>14432541</td>\n",
       "      <td>-0.0050</td>\n",
       "      <td>2016-01-02</td>\n",
       "      <td>NaN</td>\n",
       "      <td>NaN</td>\n",
       "      <td>NaN</td>\n",
       "      <td>2.5</td>\n",
       "      <td>4.0</td>\n",
       "      <td>NaN</td>\n",
       "      <td>NaN</td>\n",
       "      <td>...</td>\n",
       "      <td>169574.0</td>\n",
       "      <td>434551.0</td>\n",
       "      <td>2015</td>\n",
       "      <td>264977.0</td>\n",
       "      <td>5488.96</td>\n",
       "      <td>NaN</td>\n",
       "      <td>NaN</td>\n",
       "      <td>6.05904e+13</td>\n",
       "      <td>1</td>\n",
       "      <td>2</td>\n",
       "    </tr>\n",
       "  </tbody>\n",
       "</table>\n",
       "<p>5 rows × 62 columns</p>\n",
       "</div>"
      ],
      "text/plain": [
       "   parcelid  logerror transactiondate airconditioningtypeid  \\\n",
       "0  11016594    0.0276      2016-01-01                     1   \n",
       "1  14366692   -0.1684      2016-01-01                   NaN   \n",
       "2  12098116   -0.0040      2016-01-01                     1   \n",
       "3  12643413    0.0218      2016-01-02                     1   \n",
       "4  14432541   -0.0050      2016-01-02                   NaN   \n",
       "\n",
       "  architecturalstyletypeid  basementsqft  bathroomcnt  bedroomcnt  \\\n",
       "0                      NaN           NaN          2.0         3.0   \n",
       "1                      NaN           NaN          3.5         4.0   \n",
       "2                      NaN           NaN          3.0         2.0   \n",
       "3                      NaN           NaN          2.0         2.0   \n",
       "4                      NaN           NaN          2.5         4.0   \n",
       "\n",
       "  buildingclasstypeid buildingqualitytypeid ...  structuretaxvaluedollarcnt  \\\n",
       "0                 NaN                     4 ...                    122754.0   \n",
       "1                 NaN                   NaN ...                    346458.0   \n",
       "2                 NaN                     4 ...                     61994.0   \n",
       "3                 NaN                     4 ...                    171518.0   \n",
       "4                 NaN                   NaN ...                    169574.0   \n",
       "\n",
       "   taxvaluedollarcnt  assessmentyear  landtaxvaluedollarcnt  taxamount  \\\n",
       "0           360170.0            2015               237416.0    6735.88   \n",
       "1           585529.0            2015               239071.0   10153.02   \n",
       "2           119906.0            2015                57912.0   11484.48   \n",
       "3           244880.0            2015                73362.0    3048.74   \n",
       "4           434551.0            2015               264977.0    5488.96   \n",
       "\n",
       "   taxdelinquencyflag  taxdelinquencyyear  censustractandblock  month day  \n",
       "0                 NaN                 NaN          6.03711e+13      1   1  \n",
       "1                 NaN                 NaN                  NaN      1   1  \n",
       "2                 NaN                 NaN          6.03746e+13      1   1  \n",
       "3                 NaN                 NaN           6.0373e+13      1   2  \n",
       "4                 NaN                 NaN          6.05904e+13      1   2  \n",
       "\n",
       "[5 rows x 62 columns]"
      ]
     },
     "execution_count": 2,
     "metadata": {},
     "output_type": "execute_result"
    }
   ],
   "source": [
    "train_full.head()"
   ]
  },
  {
   "cell_type": "markdown",
   "metadata": {},
   "source": [
    "#### A lambda function to filter the columns which have less than 25% missing values"
   ]
  },
  {
   "cell_type": "code",
   "execution_count": 3,
   "metadata": {
    "collapsed": false
   },
   "outputs": [],
   "source": [
    "check_null = lambda x: x.isnull().sum()/float(len(train_full)) < 0.25"
   ]
  },
  {
   "cell_type": "code",
   "execution_count": 4,
   "metadata": {
    "collapsed": false
   },
   "outputs": [],
   "source": [
    "low_missing_values_cols = [col for col in train_full.columns if check_null(train_full[col])]"
   ]
  },
  {
   "cell_type": "code",
   "execution_count": 5,
   "metadata": {
    "collapsed": true
   },
   "outputs": [],
   "source": [
    "train_low_missing_values_cols_float = train_full[low_missing_values_cols].select_dtypes('float')"
   ]
  },
  {
   "cell_type": "code",
   "execution_count": 6,
   "metadata": {
    "collapsed": true
   },
   "outputs": [],
   "source": [
    "train_low_missing_values_cols_object = train_full[low_missing_values_cols].select_dtypes('object')"
   ]
  },
  {
   "cell_type": "code",
   "execution_count": 7,
   "metadata": {
    "collapsed": false
   },
   "outputs": [
    {
     "data": {
      "text/plain": [
       "6037.0    109270\n",
       "6059.0     45136\n",
       "6111.0     13448\n",
       "Name: fips, dtype: int64"
      ]
     },
     "execution_count": 7,
     "metadata": {},
     "output_type": "execute_result"
    }
   ],
   "source": [
    "train_low_missing_values_cols_object.fips.value_counts()"
   ]
  },
  {
   "cell_type": "code",
   "execution_count": 11,
   "metadata": {
    "collapsed": true
   },
   "outputs": [],
   "source": [
    "train_low_missing_values_cols_object['logerror'] = train_full.logerror"
   ]
  },
  {
   "cell_type": "code",
   "execution_count": 12,
   "metadata": {
    "collapsed": false
   },
   "outputs": [],
   "source": [
    "import seaborn as sns"
   ]
  },
  {
   "cell_type": "code",
   "execution_count": 14,
   "metadata": {
    "collapsed": true
   },
   "outputs": [],
   "source": [
    "train_low_missing_values_cols_object['errors'] = np.exp(train_low_missing_values_cols_object.logerror)"
   ]
  },
  {
   "cell_type": "markdown",
   "metadata": {},
   "source": [
    "#### Looks like the errors are distributed across the different counties equally although we see the outliers more for the county with fips code 6037"
   ]
  },
  {
   "cell_type": "code",
   "execution_count": 20,
   "metadata": {
    "collapsed": false
   },
   "outputs": [
    {
     "data": {
      "text/plain": [
       "<matplotlib.axes._subplots.AxesSubplot at 0x1104a0290>"
      ]
     },
     "execution_count": 20,
     "metadata": {},
     "output_type": "execute_result"
    },
    {
     "data": {
      "image/png": "[encoded data removed]",
      "text/plain": [
       "<matplotlib.figure.Figure at 0x110430c50>"
      ]
     },
     "metadata": {},
     "output_type": "display_data"
    }
   ],
   "source": [
    "sns.stripplot(x=\"fips\", y=\"errors\", data=train_low_missing_values_cols_object)"
   ]
  },
  {
   "cell_type": "code",
   "execution_count": 21,
   "metadata": {
    "collapsed": false
   },
   "outputs": [
    {
     "name": "stdout",
     "output_type": "stream",
     "text": [
      "6037.0 : 1.00601803605\n",
      "6059.0 : 1.00679106549\n",
      "6111.0 : 1.00688569675\n",
      "nan : nan\n"
     ]
    }
   ],
   "source": [
    "for county in train_low_missing_values_cols_object.fips.unique():\n",
    "    print county,\":\", np.median(train_low_missing_values_cols_object[train_low_missing_values_cols_object.fips == county]['errors'])"
   ]
  },
  {
   "cell_type": "markdown",
   "metadata": {},
   "source": [
    "#### From the data dictionary it's pretty obvious that more than 1 pair of columns are nearly identical save few rows.\n",
    "#### The following code cells try to clean up the data by removing/merging the duplicate columns."
   ]
  },
  {
   "cell_type": "code",
   "execution_count": 23,
   "metadata": {
    "collapsed": false
   },
   "outputs": [
    {
     "name": "stdout",
     "output_type": "stream",
     "text": [
      "parcelid : 165210\n",
      "fips : 4\n",
      "propertycountylandusecode : 91\n",
      "propertylandusetypeid : 15\n",
      "rawcensustractandblock : 57812\n",
      "regionidcity : 179\n",
      "regionidcounty : 4\n",
      "regionidzip : 391\n",
      "yearbuilt : 139\n",
      "assessmentyear : 3\n",
      "censustractandblock : 57545\n",
      "month : 12\n",
      "day : 31\n"
     ]
    }
   ],
   "source": [
    "for col in train_full[low_missing_values_cols].select_dtypes('object'):\n",
    "    print col,\":\",len(train_full[col].unique())"
   ]
  },
  {
   "cell_type": "markdown",
   "metadata": {},
   "source": [
    "#### Looks like `regionidcounty` and `fips` are identical and mean the same"
   ]
  },
  {
   "cell_type": "code",
   "execution_count": 24,
   "metadata": {
    "collapsed": false
   },
   "outputs": [
    {
     "name": "stdout",
     "output_type": "stream",
     "text": [
      "[6037.0]\n",
      "[6059.0]\n",
      "[6111.0]\n",
      "[]\n"
     ]
    }
   ],
   "source": [
    "for val in train_full['regionidcounty'].unique():\n",
    "    print train_full[train_full.regionidcounty == val]['fips'].unique()"
   ]
  },
  {
   "cell_type": "code",
   "execution_count": 25,
   "metadata": {
    "collapsed": false
   },
   "outputs": [
    {
     "data": {
      "text/plain": [
       "regionidcounty    34\n",
       "fips              34\n",
       "dtype: int64"
      ]
     },
     "execution_count": 25,
     "metadata": {},
     "output_type": "execute_result"
    }
   ],
   "source": [
    "train_full[['regionidcounty','fips']].isnull().sum()"
   ]
  },
  {
   "cell_type": "markdown",
   "metadata": {},
   "source": [
    "#### `censustractandblock` and `rawcensustractandblock` are identical - the former has 6 zeroes appended - that's the only difference. I removed the zeroes to make the fields equal"
   ]
  },
  {
   "cell_type": "code",
   "execution_count": 29,
   "metadata": {
    "collapsed": true
   },
   "outputs": [],
   "source": [
    "pd.set_option('display.float_format', lambda x: '%.13f' % x)"
   ]
  },
  {
   "cell_type": "code",
   "execution_count": 30,
   "metadata": {
    "collapsed": false
   },
   "outputs": [
    {
     "data": {
      "text/html": [
       "<div>\n",
       "<style scoped>\n",
       "    .dataframe tbody tr th:only-of-type {\n",
       "        vertical-align: middle;\n",
       "    }\n",
       "\n",
       "    .dataframe tbody tr th {\n",
       "        vertical-align: top;\n",
       "    }\n",
       "\n",
       "    .dataframe thead th {\n",
       "        text-align: right;\n",
       "    }\n",
       "</style>\n",
       "<table border=\"1\" class=\"dataframe\">\n",
       "  <thead>\n",
       "    <tr style=\"text-align: right;\">\n",
       "      <th></th>\n",
       "      <th>censustractandblock</th>\n",
       "      <th>rawcensustractandblock</th>\n",
       "    </tr>\n",
       "  </thead>\n",
       "  <tbody>\n",
       "    <tr>\n",
       "      <th>0</th>\n",
       "      <td>60371066461001.0000000000000</td>\n",
       "      <td>60371066.4610010012984</td>\n",
       "    </tr>\n",
       "  </tbody>\n",
       "</table>\n",
       "</div>"
      ],
      "text/plain": [
       "           censustractandblock rawcensustractandblock\n",
       "0 60371066461001.0000000000000 60371066.4610010012984"
      ]
     },
     "execution_count": 30,
     "metadata": {},
     "output_type": "execute_result"
    }
   ],
   "source": [
    "train_full[['censustractandblock','rawcensustractandblock']].head(1)"
   ]
  },
  {
   "cell_type": "code",
   "execution_count": 31,
   "metadata": {
    "collapsed": true
   },
   "outputs": [],
   "source": [
    "import math"
   ]
  },
  {
   "cell_type": "code",
   "execution_count": 32,
   "metadata": {
    "collapsed": false
   },
   "outputs": [],
   "source": [
    "train_full.censustractandblock = train_full.censustractandblock/math.pow(10,6)"
   ]
  },
  {
   "cell_type": "code",
   "execution_count": 33,
   "metadata": {
    "collapsed": false
   },
   "outputs": [
    {
     "data": {
      "text/html": [
       "<div>\n",
       "<style scoped>\n",
       "    .dataframe tbody tr th:only-of-type {\n",
       "        vertical-align: middle;\n",
       "    }\n",
       "\n",
       "    .dataframe tbody tr th {\n",
       "        vertical-align: top;\n",
       "    }\n",
       "\n",
       "    .dataframe thead th {\n",
       "        text-align: right;\n",
       "    }\n",
       "</style>\n",
       "<table border=\"1\" class=\"dataframe\">\n",
       "  <thead>\n",
       "    <tr style=\"text-align: right;\">\n",
       "      <th></th>\n",
       "      <th>censustractandblock</th>\n",
       "      <th>rawcensustractandblock</th>\n",
       "    </tr>\n",
       "  </thead>\n",
       "  <tbody>\n",
       "    <tr>\n",
       "      <th>0</th>\n",
       "      <td>60371066.4610010012984</td>\n",
       "      <td>60371066.4610010012984</td>\n",
       "    </tr>\n",
       "  </tbody>\n",
       "</table>\n",
       "</div>"
      ],
      "text/plain": [
       "     censustractandblock rawcensustractandblock\n",
       "0 60371066.4610010012984 60371066.4610010012984"
      ]
     },
     "execution_count": 33,
     "metadata": {},
     "output_type": "execute_result"
    }
   ],
   "source": [
    "train_full[['censustractandblock','rawcensustractandblock']].head(1)"
   ]
  },
  {
   "cell_type": "markdown",
   "metadata": {},
   "source": [
    "From the data dictionary we find that the field, `censustractandblock` is a categorical variable consisting of a combination of ids:\n",
    "    1. censustract\n",
    "    2. blockid\n",
    "    3. blockgroup assignment id"
   ]
  },
  {
   "cell_type": "markdown",
   "metadata": {},
   "source": [
    "The following code cells attempt to break down the field into multiple ids"
   ]
  },
  {
   "cell_type": "markdown",
   "metadata": {},
   "source": [
    "`censustract` attempts to capture the 'censustract+block' part of the id (the group of numbers before the decimal)  "
   ]
  },
  {
   "cell_type": "code",
   "execution_count": 36,
   "metadata": {
    "collapsed": true
   },
   "outputs": [],
   "source": [
    "train_full['censustract'] = [np.floor(row.rawcensustractandblock) if np.isnan(row.censustractandblock) else np.floor(row.censustractandblock) for i,row in train_full.iterrows()]"
   ]
  },
  {
   "cell_type": "code",
   "execution_count": 37,
   "metadata": {
    "collapsed": false
   },
   "outputs": [
    {
     "data": {
      "text/html": [
       "<div>\n",
       "<style scoped>\n",
       "    .dataframe tbody tr th:only-of-type {\n",
       "        vertical-align: middle;\n",
       "    }\n",
       "\n",
       "    .dataframe tbody tr th {\n",
       "        vertical-align: top;\n",
       "    }\n",
       "\n",
       "    .dataframe thead th {\n",
       "        text-align: right;\n",
       "    }\n",
       "</style>\n",
       "<table border=\"1\" class=\"dataframe\">\n",
       "  <thead>\n",
       "    <tr style=\"text-align: right;\">\n",
       "      <th></th>\n",
       "      <th>censustractandblock</th>\n",
       "      <th>rawcensustractandblock</th>\n",
       "      <th>censustract</th>\n",
       "    </tr>\n",
       "  </thead>\n",
       "  <tbody>\n",
       "    <tr>\n",
       "      <th>0</th>\n",
       "      <td>60371066.4610010012984</td>\n",
       "      <td>60371066.4610010012984</td>\n",
       "      <td>60371066.0000000000000</td>\n",
       "    </tr>\n",
       "    <tr>\n",
       "      <th>1</th>\n",
       "      <td>NaN</td>\n",
       "      <td>60590524.2220240011811</td>\n",
       "      <td>60590524.0000000000000</td>\n",
       "    </tr>\n",
       "    <tr>\n",
       "      <th>2</th>\n",
       "      <td>60374638.0030039995909</td>\n",
       "      <td>60374638.0030040070415</td>\n",
       "      <td>60374638.0000000000000</td>\n",
       "    </tr>\n",
       "    <tr>\n",
       "      <th>3</th>\n",
       "      <td>60372963.0020020008087</td>\n",
       "      <td>60372963.0020020008087</td>\n",
       "      <td>60372963.0000000000000</td>\n",
       "    </tr>\n",
       "    <tr>\n",
       "      <th>4</th>\n",
       "      <td>60590423.3810060024261</td>\n",
       "      <td>60590423.3810060024261</td>\n",
       "      <td>60590423.0000000000000</td>\n",
       "    </tr>\n",
       "    <tr>\n",
       "      <th>5</th>\n",
       "      <td>60376210.0440059974790</td>\n",
       "      <td>60376210.0440060049295</td>\n",
       "      <td>60376210.0000000000000</td>\n",
       "    </tr>\n",
       "    <tr>\n",
       "      <th>6</th>\n",
       "      <td>60375416.0530069991946</td>\n",
       "      <td>60375416.0530069917440</td>\n",
       "      <td>60375416.0000000000000</td>\n",
       "    </tr>\n",
       "    <tr>\n",
       "      <th>7</th>\n",
       "      <td>61110031.0020729973912</td>\n",
       "      <td>61110031.0020729973912</td>\n",
       "      <td>61110031.0000000000000</td>\n",
       "    </tr>\n",
       "    <tr>\n",
       "      <th>8</th>\n",
       "      <td>60590423.1510180011392</td>\n",
       "      <td>60590423.1510189920664</td>\n",
       "      <td>60590423.0000000000000</td>\n",
       "    </tr>\n",
       "    <tr>\n",
       "      <th>9</th>\n",
       "      <td>60590626.4830150008202</td>\n",
       "      <td>60590626.4830050021410</td>\n",
       "      <td>60590626.0000000000000</td>\n",
       "    </tr>\n",
       "  </tbody>\n",
       "</table>\n",
       "</div>"
      ],
      "text/plain": [
       "     censustractandblock rawcensustractandblock            censustract\n",
       "0 60371066.4610010012984 60371066.4610010012984 60371066.0000000000000\n",
       "1                    NaN 60590524.2220240011811 60590524.0000000000000\n",
       "2 60374638.0030039995909 60374638.0030040070415 60374638.0000000000000\n",
       "3 60372963.0020020008087 60372963.0020020008087 60372963.0000000000000\n",
       "4 60590423.3810060024261 60590423.3810060024261 60590423.0000000000000\n",
       "5 60376210.0440059974790 60376210.0440060049295 60376210.0000000000000\n",
       "6 60375416.0530069991946 60375416.0530069917440 60375416.0000000000000\n",
       "7 61110031.0020729973912 61110031.0020729973912 61110031.0000000000000\n",
       "8 60590423.1510180011392 60590423.1510189920664 60590423.0000000000000\n",
       "9 60590626.4830150008202 60590626.4830050021410 60590626.0000000000000"
      ]
     },
     "execution_count": 37,
     "metadata": {},
     "output_type": "execute_result"
    }
   ],
   "source": [
    "train_full[['censustractandblock','rawcensustractandblock','censustract']].head(10)"
   ]
  },
  {
   "cell_type": "markdown",
   "metadata": {},
   "source": [
    "`blockid` attempts to separate the last 4 digits of censustract "
   ]
  },
  {
   "cell_type": "code",
   "execution_count": 38,
   "metadata": {
    "collapsed": true
   },
   "outputs": [],
   "source": [
    "train_full['blockid'] = [row.censustract - (row.fips * math.pow(10,4)) for i,row in train_full.iterrows()]"
   ]
  },
  {
   "cell_type": "code",
   "execution_count": 39,
   "metadata": {
    "collapsed": false
   },
   "outputs": [
    {
     "data": {
      "text/html": [
       "<div>\n",
       "<style scoped>\n",
       "    .dataframe tbody tr th:only-of-type {\n",
       "        vertical-align: middle;\n",
       "    }\n",
       "\n",
       "    .dataframe tbody tr th {\n",
       "        vertical-align: top;\n",
       "    }\n",
       "\n",
       "    .dataframe thead th {\n",
       "        text-align: right;\n",
       "    }\n",
       "</style>\n",
       "<table border=\"1\" class=\"dataframe\">\n",
       "  <thead>\n",
       "    <tr style=\"text-align: right;\">\n",
       "      <th></th>\n",
       "      <th>censustractandblock</th>\n",
       "      <th>rawcensustractandblock</th>\n",
       "      <th>censustract</th>\n",
       "      <th>blockid</th>\n",
       "    </tr>\n",
       "  </thead>\n",
       "  <tbody>\n",
       "    <tr>\n",
       "      <th>0</th>\n",
       "      <td>60371066.4610010012984</td>\n",
       "      <td>60371066.4610010012984</td>\n",
       "      <td>60371066.0000000000000</td>\n",
       "      <td>1066.0000000000000</td>\n",
       "    </tr>\n",
       "    <tr>\n",
       "      <th>1</th>\n",
       "      <td>NaN</td>\n",
       "      <td>60590524.2220240011811</td>\n",
       "      <td>60590524.0000000000000</td>\n",
       "      <td>524.0000000000000</td>\n",
       "    </tr>\n",
       "    <tr>\n",
       "      <th>2</th>\n",
       "      <td>60374638.0030039995909</td>\n",
       "      <td>60374638.0030040070415</td>\n",
       "      <td>60374638.0000000000000</td>\n",
       "      <td>4638.0000000000000</td>\n",
       "    </tr>\n",
       "    <tr>\n",
       "      <th>3</th>\n",
       "      <td>60372963.0020020008087</td>\n",
       "      <td>60372963.0020020008087</td>\n",
       "      <td>60372963.0000000000000</td>\n",
       "      <td>2963.0000000000000</td>\n",
       "    </tr>\n",
       "    <tr>\n",
       "      <th>4</th>\n",
       "      <td>60590423.3810060024261</td>\n",
       "      <td>60590423.3810060024261</td>\n",
       "      <td>60590423.0000000000000</td>\n",
       "      <td>423.0000000000000</td>\n",
       "    </tr>\n",
       "    <tr>\n",
       "      <th>5</th>\n",
       "      <td>60376210.0440059974790</td>\n",
       "      <td>60376210.0440060049295</td>\n",
       "      <td>60376210.0000000000000</td>\n",
       "      <td>6210.0000000000000</td>\n",
       "    </tr>\n",
       "    <tr>\n",
       "      <th>6</th>\n",
       "      <td>60375416.0530069991946</td>\n",
       "      <td>60375416.0530069917440</td>\n",
       "      <td>60375416.0000000000000</td>\n",
       "      <td>5416.0000000000000</td>\n",
       "    </tr>\n",
       "    <tr>\n",
       "      <th>7</th>\n",
       "      <td>61110031.0020729973912</td>\n",
       "      <td>61110031.0020729973912</td>\n",
       "      <td>61110031.0000000000000</td>\n",
       "      <td>31.0000000000000</td>\n",
       "    </tr>\n",
       "    <tr>\n",
       "      <th>8</th>\n",
       "      <td>60590423.1510180011392</td>\n",
       "      <td>60590423.1510189920664</td>\n",
       "      <td>60590423.0000000000000</td>\n",
       "      <td>423.0000000000000</td>\n",
       "    </tr>\n",
       "    <tr>\n",
       "      <th>9</th>\n",
       "      <td>60590626.4830150008202</td>\n",
       "      <td>60590626.4830050021410</td>\n",
       "      <td>60590626.0000000000000</td>\n",
       "      <td>626.0000000000000</td>\n",
       "    </tr>\n",
       "  </tbody>\n",
       "</table>\n",
       "</div>"
      ],
      "text/plain": [
       "     censustractandblock rawcensustractandblock            censustract  \\\n",
       "0 60371066.4610010012984 60371066.4610010012984 60371066.0000000000000   \n",
       "1                    NaN 60590524.2220240011811 60590524.0000000000000   \n",
       "2 60374638.0030039995909 60374638.0030040070415 60374638.0000000000000   \n",
       "3 60372963.0020020008087 60372963.0020020008087 60372963.0000000000000   \n",
       "4 60590423.3810060024261 60590423.3810060024261 60590423.0000000000000   \n",
       "5 60376210.0440059974790 60376210.0440060049295 60376210.0000000000000   \n",
       "6 60375416.0530069991946 60375416.0530069917440 60375416.0000000000000   \n",
       "7 61110031.0020729973912 61110031.0020729973912 61110031.0000000000000   \n",
       "8 60590423.1510180011392 60590423.1510189920664 60590423.0000000000000   \n",
       "9 60590626.4830150008202 60590626.4830050021410 60590626.0000000000000   \n",
       "\n",
       "             blockid  \n",
       "0 1066.0000000000000  \n",
       "1  524.0000000000000  \n",
       "2 4638.0000000000000  \n",
       "3 2963.0000000000000  \n",
       "4  423.0000000000000  \n",
       "5 6210.0000000000000  \n",
       "6 5416.0000000000000  \n",
       "7   31.0000000000000  \n",
       "8  423.0000000000000  \n",
       "9  626.0000000000000  "
      ]
     },
     "execution_count": 39,
     "metadata": {},
     "output_type": "execute_result"
    }
   ],
   "source": [
    "train_full[['censustractandblock','rawcensustractandblock','censustract','blockid']].head(10)"
   ]
  },
  {
   "cell_type": "markdown",
   "metadata": {},
   "source": [
    "`blockgroup` captures the values after the decimal"
   ]
  },
  {
   "cell_type": "code",
   "execution_count": 40,
   "metadata": {
    "collapsed": true
   },
   "outputs": [],
   "source": [
    "train_full['blockgroup'] = [np.modf(row.rawcensustractandblock)[0] if np.isnan(row.censustractandblock) else np.modf(row.censustractandblock)[0] for i,row in train_full.iterrows()]"
   ]
  },
  {
   "cell_type": "code",
   "execution_count": 41,
   "metadata": {
    "collapsed": false
   },
   "outputs": [
    {
     "data": {
      "text/html": [
       "<div>\n",
       "<style scoped>\n",
       "    .dataframe tbody tr th:only-of-type {\n",
       "        vertical-align: middle;\n",
       "    }\n",
       "\n",
       "    .dataframe tbody tr th {\n",
       "        vertical-align: top;\n",
       "    }\n",
       "\n",
       "    .dataframe thead th {\n",
       "        text-align: right;\n",
       "    }\n",
       "</style>\n",
       "<table border=\"1\" class=\"dataframe\">\n",
       "  <thead>\n",
       "    <tr style=\"text-align: right;\">\n",
       "      <th></th>\n",
       "      <th>censustractandblock</th>\n",
       "      <th>rawcensustractandblock</th>\n",
       "      <th>censustract</th>\n",
       "      <th>blockid</th>\n",
       "      <th>blockgroup</th>\n",
       "    </tr>\n",
       "  </thead>\n",
       "  <tbody>\n",
       "    <tr>\n",
       "      <th>0</th>\n",
       "      <td>60371066.4610010012984</td>\n",
       "      <td>60371066.4610010012984</td>\n",
       "      <td>60371066.0000000000000</td>\n",
       "      <td>1066.0000000000000</td>\n",
       "      <td>0.4610010012984</td>\n",
       "    </tr>\n",
       "    <tr>\n",
       "      <th>1</th>\n",
       "      <td>NaN</td>\n",
       "      <td>60590524.2220240011811</td>\n",
       "      <td>60590524.0000000000000</td>\n",
       "      <td>524.0000000000000</td>\n",
       "      <td>0.2220240011811</td>\n",
       "    </tr>\n",
       "    <tr>\n",
       "      <th>2</th>\n",
       "      <td>60374638.0030039995909</td>\n",
       "      <td>60374638.0030040070415</td>\n",
       "      <td>60374638.0000000000000</td>\n",
       "      <td>4638.0000000000000</td>\n",
       "      <td>0.0030039995909</td>\n",
       "    </tr>\n",
       "    <tr>\n",
       "      <th>3</th>\n",
       "      <td>60372963.0020020008087</td>\n",
       "      <td>60372963.0020020008087</td>\n",
       "      <td>60372963.0000000000000</td>\n",
       "      <td>2963.0000000000000</td>\n",
       "      <td>0.0020020008087</td>\n",
       "    </tr>\n",
       "    <tr>\n",
       "      <th>4</th>\n",
       "      <td>60590423.3810060024261</td>\n",
       "      <td>60590423.3810060024261</td>\n",
       "      <td>60590423.0000000000000</td>\n",
       "      <td>423.0000000000000</td>\n",
       "      <td>0.3810060024261</td>\n",
       "    </tr>\n",
       "    <tr>\n",
       "      <th>5</th>\n",
       "      <td>60376210.0440059974790</td>\n",
       "      <td>60376210.0440060049295</td>\n",
       "      <td>60376210.0000000000000</td>\n",
       "      <td>6210.0000000000000</td>\n",
       "      <td>0.0440059974790</td>\n",
       "    </tr>\n",
       "    <tr>\n",
       "      <th>6</th>\n",
       "      <td>60375416.0530069991946</td>\n",
       "      <td>60375416.0530069917440</td>\n",
       "      <td>60375416.0000000000000</td>\n",
       "      <td>5416.0000000000000</td>\n",
       "      <td>0.0530069991946</td>\n",
       "    </tr>\n",
       "    <tr>\n",
       "      <th>7</th>\n",
       "      <td>61110031.0020729973912</td>\n",
       "      <td>61110031.0020729973912</td>\n",
       "      <td>61110031.0000000000000</td>\n",
       "      <td>31.0000000000000</td>\n",
       "      <td>0.0020729973912</td>\n",
       "    </tr>\n",
       "    <tr>\n",
       "      <th>8</th>\n",
       "      <td>60590423.1510180011392</td>\n",
       "      <td>60590423.1510189920664</td>\n",
       "      <td>60590423.0000000000000</td>\n",
       "      <td>423.0000000000000</td>\n",
       "      <td>0.1510180011392</td>\n",
       "    </tr>\n",
       "    <tr>\n",
       "      <th>9</th>\n",
       "      <td>60590626.4830150008202</td>\n",
       "      <td>60590626.4830050021410</td>\n",
       "      <td>60590626.0000000000000</td>\n",
       "      <td>626.0000000000000</td>\n",
       "      <td>0.4830150008202</td>\n",
       "    </tr>\n",
       "  </tbody>\n",
       "</table>\n",
       "</div>"
      ],
      "text/plain": [
       "     censustractandblock rawcensustractandblock            censustract  \\\n",
       "0 60371066.4610010012984 60371066.4610010012984 60371066.0000000000000   \n",
       "1                    NaN 60590524.2220240011811 60590524.0000000000000   \n",
       "2 60374638.0030039995909 60374638.0030040070415 60374638.0000000000000   \n",
       "3 60372963.0020020008087 60372963.0020020008087 60372963.0000000000000   \n",
       "4 60590423.3810060024261 60590423.3810060024261 60590423.0000000000000   \n",
       "5 60376210.0440059974790 60376210.0440060049295 60376210.0000000000000   \n",
       "6 60375416.0530069991946 60375416.0530069917440 60375416.0000000000000   \n",
       "7 61110031.0020729973912 61110031.0020729973912 61110031.0000000000000   \n",
       "8 60590423.1510180011392 60590423.1510189920664 60590423.0000000000000   \n",
       "9 60590626.4830150008202 60590626.4830050021410 60590626.0000000000000   \n",
       "\n",
       "             blockid      blockgroup  \n",
       "0 1066.0000000000000 0.4610010012984  \n",
       "1  524.0000000000000 0.2220240011811  \n",
       "2 4638.0000000000000 0.0030039995909  \n",
       "3 2963.0000000000000 0.0020020008087  \n",
       "4  423.0000000000000 0.3810060024261  \n",
       "5 6210.0000000000000 0.0440059974790  \n",
       "6 5416.0000000000000 0.0530069991946  \n",
       "7   31.0000000000000 0.0020729973912  \n",
       "8  423.0000000000000 0.1510180011392  \n",
       "9  626.0000000000000 0.4830150008202  "
      ]
     },
     "execution_count": 41,
     "metadata": {},
     "output_type": "execute_result"
    }
   ],
   "source": [
    "train_full[['censustractandblock','rawcensustractandblock','censustract','blockid','blockgroup']].head(10)"
   ]
  },
  {
   "cell_type": "markdown",
   "metadata": {},
   "source": [
    "* `regionidzip` indicates the zipcode of the property - so intuitively it should map distinctly to one particular county\n",
    "* However we see there are few zipcodes which belong to more than 1 county and `fips = 6037` is constant in all of them - \n",
    "* 6037 is also the middle of the 3 countries geographically - this just makes sense as these properties must have been located\n",
    "on the order of the counties thus leading to more than 1 county"
   ]
  },
  {
   "cell_type": "code",
   "execution_count": 42,
   "metadata": {
    "collapsed": false
   },
   "outputs": [
    {
     "data": {
      "text/html": [
       "<div>\n",
       "<style scoped>\n",
       "    .dataframe tbody tr th:only-of-type {\n",
       "        vertical-align: middle;\n",
       "    }\n",
       "\n",
       "    .dataframe tbody tr th {\n",
       "        vertical-align: top;\n",
       "    }\n",
       "\n",
       "    .dataframe thead th {\n",
       "        text-align: right;\n",
       "    }\n",
       "</style>\n",
       "<table border=\"1\" class=\"dataframe\">\n",
       "  <thead>\n",
       "    <tr style=\"text-align: right;\">\n",
       "      <th></th>\n",
       "      <th>regionidzip</th>\n",
       "      <th>fips</th>\n",
       "    </tr>\n",
       "  </thead>\n",
       "  <tbody>\n",
       "    <tr>\n",
       "      <th>0</th>\n",
       "      <td>96370.0000000000000</td>\n",
       "      <td>6037.0000000000000</td>\n",
       "    </tr>\n",
       "    <tr>\n",
       "      <th>1</th>\n",
       "      <td>96962.0000000000000</td>\n",
       "      <td>6059.0000000000000</td>\n",
       "    </tr>\n",
       "    <tr>\n",
       "      <th>2</th>\n",
       "      <td>96293.0000000000000</td>\n",
       "      <td>6037.0000000000000</td>\n",
       "    </tr>\n",
       "    <tr>\n",
       "      <th>3</th>\n",
       "      <td>96222.0000000000000</td>\n",
       "      <td>6037.0000000000000</td>\n",
       "    </tr>\n",
       "    <tr>\n",
       "      <th>4</th>\n",
       "      <td>96961.0000000000000</td>\n",
       "      <td>6059.0000000000000</td>\n",
       "    </tr>\n",
       "  </tbody>\n",
       "</table>\n",
       "</div>"
      ],
      "text/plain": [
       "          regionidzip               fips\n",
       "0 96370.0000000000000 6037.0000000000000\n",
       "1 96962.0000000000000 6059.0000000000000\n",
       "2 96293.0000000000000 6037.0000000000000\n",
       "3 96222.0000000000000 6037.0000000000000\n",
       "4 96961.0000000000000 6059.0000000000000"
      ]
     },
     "execution_count": 42,
     "metadata": {},
     "output_type": "execute_result"
    }
   ],
   "source": [
    "train_full[['regionidzip','fips']].head()"
   ]
  },
  {
   "cell_type": "code",
   "execution_count": 43,
   "metadata": {
    "collapsed": false
   },
   "outputs": [
    {
     "name": "stdout",
     "output_type": "stream",
     "text": [
      "96190.0 : [6037.0 6059.0]\n",
      "96384.0 : [6037.0 6111.0]\n",
      "96183.0 : [6059.0 6037.0]\n",
      "96186.0 : [6059.0 6037.0]\n",
      "96385.0 : [6111.0 6037.0]\n",
      "96346.0 : [6037.0 6111.0]\n",
      "96342.0 : [6037.0 6111.0]\n",
      "96116.0 : [6037.0 6111.0]\n",
      "96339.0 : [6037.0 6111.0]\n",
      "nan : []\n"
     ]
    }
   ],
   "source": [
    "for val in train_full['regionidzip'].unique():\n",
    "    if len(train_full[train_full.regionidzip == val]['fips'].unique()) != 1:\n",
    "        print val, \":\", train_full[train_full.regionidzip == val]['fips'].unique()"
   ]
  },
  {
   "cell_type": "markdown",
   "metadata": {},
   "source": [
    "We see the same pattern for `regionidcity` and `regionidneighborhood`"
   ]
  },
  {
   "cell_type": "code",
   "execution_count": 44,
   "metadata": {
    "collapsed": false,
    "scrolled": true
   },
   "outputs": [
    {
     "name": "stdout",
     "output_type": "stream",
     "text": [
      "12447.0 : [6037.0 6111.0]\n",
      "5465.0 : [6037.0 6059.0]\n",
      "41673.0 : [6037.0 6111.0]\n",
      "34278.0 : [6111.0 6037.0]\n",
      "nan : []\n",
      "15237.0 : [6059.0 6037.0]\n",
      "10608.0 : [6059.0 6037.0]\n",
      "9840.0 : [6037.0 6111.0]\n",
      "18874.0 : [6059.0 6037.0]\n",
      "44833.0 : [6059.0 6037.0]\n",
      "18875.0 : [6037.0 6059.0]\n",
      "12520.0 : [6037.0 6111.0]\n",
      "54352.0 : [6059.0 6037.0]\n"
     ]
    }
   ],
   "source": [
    "for val in train_full['regionidcity'].unique():\n",
    "    if len(train_full[train_full.regionidcity == val]['fips'].unique()) != 1:\n",
    "        print val, \":\", train_full[train_full.regionidcity == val]['fips'].unique()"
   ]
  },
  {
   "cell_type": "code",
   "execution_count": 45,
   "metadata": {
    "collapsed": false
   },
   "outputs": [
    {
     "name": "stdout",
     "output_type": "stream",
     "text": [
      "nan : []\n",
      "37835.0 : [6037.0 6111.0]\n"
     ]
    }
   ],
   "source": [
    "for val in train_full['regionidneighborhood'].unique():\n",
    "    if len(train_full[train_full.regionidneighborhood == val]['fips'].unique()) != 1:\n",
    "        print val, \":\", train_full[train_full.regionidneighborhood == val]['fips'].unique()"
   ]
  },
  {
   "cell_type": "markdown",
   "metadata": {},
   "source": [
    "#### Each `propertylandusetypeid` appears to be mapped to multiple `propertycountylandusecode` - so I do not observe any evidence of duplicate in these 2 columns even thpough their field descriptions are pretty similar"
   ]
  },
  {
   "cell_type": "code",
   "execution_count": 158,
   "metadata": {
    "collapsed": false
   },
   "outputs": [
    {
     "name": "stdout",
     "output_type": "stream",
     "text": [
      "261.0 : ['0100' '1' '122' '0104' '0101' '1111' '1110' '010V' '010G' '0103' '0111'\n",
      " '010M' '0108' '1014' '1112' '0109' '1011' '0102' '0110' '0130' '8800'\n",
      " '0114' '010' '0131' '0113' '0133' '0105' '0141' '0115' '010L']\n",
      "266.0 : ['010C' '1129' '34' '1' '010E' '01DC' '012C' '01HC' '010H' '010V' '01DD'\n",
      " '040V' nan '01HE']\n",
      "246.0 : ['0200' '38' '1210' '0201' '1222' '0210' '020G' '020M' '200' '0204' '0203'\n",
      " '020E']\n",
      "263.0 : ['0700' '1116' '73' '070D' '0']\n",
      "269.0 : ['010D' '010V' '1014' '1' '1011' '100V' '1012']\n",
      "248.0 : ['0400' '96' '1410' '1432' '0401' '040A' '040V' '1421' '1420' '040G' '040B']\n",
      "247.0 : ['0300' '135' '1310' '1321' '0303' '1333' '030G' '0301']\n",
      "275.0 : ['1117' '1120']\n",
      "260.0 : ['010V' '105']\n",
      "31.0 : ['1720' '1210' '1722' '6050' '0200']\n",
      "264.0 : ['012D' '012E']\n",
      "nan : []\n"
     ]
    }
   ],
   "source": [
    "for val in train_full['propertylandusetypeid'].unique():\n",
    "    if len(train_full[train_full.propertylandusetypeid == val]['propertycountylandusecode'].unique()) != 1:\n",
    "        print val, \":\", train_full[train_full.propertylandusetypeid == val]['propertycountylandusecode'].unique()"
   ]
  },
  {
   "cell_type": "code",
   "execution_count": null,
   "metadata": {
    "collapsed": true
   },
   "outputs": [],
   "source": []
  }
 ],
 "metadata": {
  "anaconda-cloud": {},
  "kernelspec": {
   "display_name": "Python [conda env:py27]",
   "language": "python",
   "name": "conda-env-py27-py"
  },
  "language_info": {
   "codemirror_mode": {
    "name": "ipython",
    "version": 2
   },
   "file_extension": ".py",
   "mimetype": "text/x-python",
   "name": "python",
   "nbconvert_exporter": "python",
   "pygments_lexer": "ipython2",
   "version": "2.7.12"
  }
 },
 "nbformat": 4,
 "nbformat_minor": 1
}
