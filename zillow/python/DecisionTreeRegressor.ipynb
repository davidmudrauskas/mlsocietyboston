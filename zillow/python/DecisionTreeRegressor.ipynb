{
 "cells": [
  {
   "cell_type": "code",
   "execution_count": 2,
   "metadata": {},
   "outputs": [
    {
     "data": {
      "text/html": [
       "<div>\n",
       "<style>\n",
       "    .dataframe thead tr:only-child th {\n",
       "        text-align: right;\n",
       "    }\n",
       "\n",
       "    .dataframe thead th {\n",
       "        text-align: left;\n",
       "    }\n",
       "\n",
       "    .dataframe tbody tr th {\n",
       "        vertical-align: top;\n",
       "    }\n",
       "</style>\n",
       "<table border=\"1\" class=\"dataframe\">\n",
       "  <thead>\n",
       "    <tr style=\"text-align: right;\">\n",
       "      <th></th>\n",
       "      <th>parcelid</th>\n",
       "      <th>logerror</th>\n",
       "      <th>transactiondate</th>\n",
       "      <th>airconditioningtypeid</th>\n",
       "      <th>architecturalstyletypeid</th>\n",
       "      <th>basementsqft</th>\n",
       "      <th>bathroomcnt</th>\n",
       "      <th>bedroomcnt</th>\n",
       "      <th>buildingclasstypeid</th>\n",
       "      <th>buildingqualitytypeid</th>\n",
       "      <th>...</th>\n",
       "      <th>fireplaceflag</th>\n",
       "      <th>structuretaxvaluedollarcnt</th>\n",
       "      <th>taxvaluedollarcnt</th>\n",
       "      <th>assessmentyear</th>\n",
       "      <th>landtaxvaluedollarcnt</th>\n",
       "      <th>taxamount</th>\n",
       "      <th>taxdelinquencyflag</th>\n",
       "      <th>taxdelinquencyyear</th>\n",
       "      <th>censustractandblock</th>\n",
       "      <th>random_value</th>\n",
       "    </tr>\n",
       "  </thead>\n",
       "  <tbody>\n",
       "    <tr>\n",
       "      <th>0</th>\n",
       "      <td>11267116</td>\n",
       "      <td>0.084875</td>\n",
       "      <td>2017-06-21</td>\n",
       "      <td>NaN</td>\n",
       "      <td>NaN</td>\n",
       "      <td>NaN</td>\n",
       "      <td>2.0</td>\n",
       "      <td>5.0</td>\n",
       "      <td>NaN</td>\n",
       "      <td>4.0</td>\n",
       "      <td>...</td>\n",
       "      <td>NaN</td>\n",
       "      <td>117747.0</td>\n",
       "      <td>147182.0</td>\n",
       "      <td>2016.0</td>\n",
       "      <td>29435.0</td>\n",
       "      <td>2537.05</td>\n",
       "      <td>NaN</td>\n",
       "      <td>NaN</td>\n",
       "      <td>6.037901e+13</td>\n",
       "      <td>-4.707495</td>\n",
       "    </tr>\n",
       "    <tr>\n",
       "      <th>1</th>\n",
       "      <td>12941171</td>\n",
       "      <td>0.041719</td>\n",
       "      <td>2017-07-19</td>\n",
       "      <td>NaN</td>\n",
       "      <td>NaN</td>\n",
       "      <td>NaN</td>\n",
       "      <td>2.0</td>\n",
       "      <td>4.0</td>\n",
       "      <td>NaN</td>\n",
       "      <td>6.0</td>\n",
       "      <td>...</td>\n",
       "      <td>NaN</td>\n",
       "      <td>134000.0</td>\n",
       "      <td>397000.0</td>\n",
       "      <td>2016.0</td>\n",
       "      <td>263000.0</td>\n",
       "      <td>5174.59</td>\n",
       "      <td>NaN</td>\n",
       "      <td>NaN</td>\n",
       "      <td>6.037407e+13</td>\n",
       "      <td>-4.396730</td>\n",
       "    </tr>\n",
       "    <tr>\n",
       "      <th>2</th>\n",
       "      <td>14602106</td>\n",
       "      <td>-0.048100</td>\n",
       "      <td>2016-07-05</td>\n",
       "      <td>NaN</td>\n",
       "      <td>NaN</td>\n",
       "      <td>NaN</td>\n",
       "      <td>2.5</td>\n",
       "      <td>2.0</td>\n",
       "      <td>NaN</td>\n",
       "      <td>NaN</td>\n",
       "      <td>...</td>\n",
       "      <td>NaN</td>\n",
       "      <td>154894.0</td>\n",
       "      <td>392000.0</td>\n",
       "      <td>2015.0</td>\n",
       "      <td>237106.0</td>\n",
       "      <td>6121.24</td>\n",
       "      <td>NaN</td>\n",
       "      <td>NaN</td>\n",
       "      <td>6.059032e+13</td>\n",
       "      <td>-4.338861</td>\n",
       "    </tr>\n",
       "  </tbody>\n",
       "</table>\n",
       "<p>3 rows × 61 columns</p>\n",
       "</div>"
      ],
      "text/plain": [
       "   parcelid  logerror transactiondate  airconditioningtypeid  \\\n",
       "0  11267116  0.084875      2017-06-21                    NaN   \n",
       "1  12941171  0.041719      2017-07-19                    NaN   \n",
       "2  14602106 -0.048100      2016-07-05                    NaN   \n",
       "\n",
       "   architecturalstyletypeid  basementsqft  bathroomcnt  bedroomcnt  \\\n",
       "0                       NaN           NaN          2.0         5.0   \n",
       "1                       NaN           NaN          2.0         4.0   \n",
       "2                       NaN           NaN          2.5         2.0   \n",
       "\n",
       "   buildingclasstypeid  buildingqualitytypeid      ...       fireplaceflag  \\\n",
       "0                  NaN                    4.0      ...                 NaN   \n",
       "1                  NaN                    6.0      ...                 NaN   \n",
       "2                  NaN                    NaN      ...                 NaN   \n",
       "\n",
       "   structuretaxvaluedollarcnt  taxvaluedollarcnt  assessmentyear  \\\n",
       "0                    117747.0           147182.0          2016.0   \n",
       "1                    134000.0           397000.0          2016.0   \n",
       "2                    154894.0           392000.0          2015.0   \n",
       "\n",
       "   landtaxvaluedollarcnt  taxamount  taxdelinquencyflag  taxdelinquencyyear  \\\n",
       "0                29435.0    2537.05                 NaN                 NaN   \n",
       "1               263000.0    5174.59                 NaN                 NaN   \n",
       "2               237106.0    6121.24                 NaN                 NaN   \n",
       "\n",
       "   censustractandblock  random_value  \n",
       "0         6.037901e+13     -4.707495  \n",
       "1         6.037407e+13     -4.396730  \n",
       "2         6.059032e+13     -4.338861  \n",
       "\n",
       "[3 rows x 61 columns]"
      ]
     },
     "execution_count": 2,
     "metadata": {},
     "output_type": "execute_result"
    }
   ],
   "source": [
    "import pandas as pd\n",
    "\n",
    "# Load the training subset\n",
    "training_sample = pd.read_csv('/Users/David/Desktop/Zillow/training_sample.csv')\n",
    "training_sample.head(3)"
   ]
  },
  {
   "cell_type": "code",
   "execution_count": 3,
   "metadata": {},
   "outputs": [
    {
     "data": {
      "text/plain": [
       "Index(['parcelid', 'logerror', 'transactiondate', 'airconditioningtypeid',\n",
       "       'architecturalstyletypeid', 'basementsqft', 'bathroomcnt', 'bedroomcnt',\n",
       "       'buildingclasstypeid', 'buildingqualitytypeid', 'calculatedbathnbr',\n",
       "       'decktypeid', 'finishedfloor1squarefeet',\n",
       "       'calculatedfinishedsquarefeet', 'finishedsquarefeet12',\n",
       "       'finishedsquarefeet13', 'finishedsquarefeet15', 'finishedsquarefeet50',\n",
       "       'finishedsquarefeet6', 'fips', 'fireplacecnt', 'fullbathcnt',\n",
       "       'garagecarcnt', 'garagetotalsqft', 'hashottuborspa',\n",
       "       'heatingorsystemtypeid', 'latitude', 'longitude', 'lotsizesquarefeet',\n",
       "       'poolcnt', 'poolsizesum', 'pooltypeid10', 'pooltypeid2', 'pooltypeid7',\n",
       "       'propertycountylandusecode', 'propertylandusetypeid',\n",
       "       'propertyzoningdesc', 'rawcensustractandblock', 'regionidcity',\n",
       "       'regionidcounty', 'regionidneighborhood', 'regionidzip', 'roomcnt',\n",
       "       'storytypeid', 'threequarterbathnbr', 'typeconstructiontypeid',\n",
       "       'unitcnt', 'yardbuildingsqft17', 'yardbuildingsqft26', 'yearbuilt',\n",
       "       'numberofstories', 'fireplaceflag', 'structuretaxvaluedollarcnt',\n",
       "       'taxvaluedollarcnt', 'assessmentyear', 'landtaxvaluedollarcnt',\n",
       "       'taxamount', 'taxdelinquencyflag', 'taxdelinquencyyear',\n",
       "       'censustractandblock', 'random_value'],\n",
       "      dtype='object')"
      ]
     },
     "execution_count": 3,
     "metadata": {},
     "output_type": "execute_result"
    }
   ],
   "source": [
    "training_sample.columns"
   ]
  },
  {
   "cell_type": "code",
   "execution_count": 9,
   "metadata": {
    "collapsed": true
   },
   "outputs": [],
   "source": [
    "training_sample[['basementsqft']] = training_sample[['basementsqft']].fillna(0)"
   ]
  },
  {
   "cell_type": "code",
   "execution_count": 34,
   "metadata": {},
   "outputs": [
    {
     "data": {
      "text/plain": [
       "2.0"
      ]
     },
     "execution_count": 34,
     "metadata": {},
     "output_type": "execute_result"
    }
   ],
   "source": [
    "import numpy as np\n",
    "\n",
    "np.median(training_sample[training_sample.calculatedbathnbr.notnull()].calculatedbathnbr)"
   ]
  },
  {
   "cell_type": "code",
   "execution_count": 35,
   "metadata": {},
   "outputs": [
    {
     "name": "stderr",
     "output_type": "stream",
     "text": [
      "/anaconda3/lib/python3.6/site-packages/statsmodels/nonparametric/kde.py:494: RuntimeWarning: invalid value encountered in true_divide\n",
      "  binned = fast_linbin(X,a,b,gridsize)/(delta*nobs)\n",
      "/anaconda3/lib/python3.6/site-packages/statsmodels/nonparametric/kdetools.py:34: RuntimeWarning: invalid value encountered in double_scalars\n",
      "  FAC1 = 2*(np.pi*bw/RANGE)**2\n"
     ]
    },
    {
     "data": {
      "image/png": "[encoded data removed]",
      "text/plain": [
       "<matplotlib.figure.Figure at 0x10bdadb70>"
      ]
     },
     "metadata": {},
     "output_type": "display_data"
    }
   ],
   "source": [
    "import seaborn as sns\n",
    "import matplotlib.pyplot as plt\n",
    "\n",
    "sns.distplot(training_sample.decktypeid.dropna())\n",
    "plt.show()"
   ]
  },
  {
   "cell_type": "code",
   "execution_count": 42,
   "metadata": {},
   "outputs": [
    {
     "data": {
      "text/html": [
       "<div>\n",
       "<style>\n",
       "    .dataframe thead tr:only-child th {\n",
       "        text-align: right;\n",
       "    }\n",
       "\n",
       "    .dataframe thead th {\n",
       "        text-align: left;\n",
       "    }\n",
       "\n",
       "    .dataframe tbody tr th {\n",
       "        vertical-align: top;\n",
       "    }\n",
       "</style>\n",
       "<table border=\"1\" class=\"dataframe\">\n",
       "  <thead>\n",
       "    <tr>\n",
       "      <th></th>\n",
       "      <th>parcelid</th>\n",
       "      <th>logerror</th>\n",
       "      <th>transactiondate</th>\n",
       "      <th>airconditioningtypeid</th>\n",
       "      <th>architecturalstyletypeid</th>\n",
       "      <th>basementsqft</th>\n",
       "      <th>bathroomcnt</th>\n",
       "      <th>bedroomcnt</th>\n",
       "      <th>buildingclasstypeid</th>\n",
       "      <th>buildingqualitytypeid</th>\n",
       "      <th>...</th>\n",
       "      <th>fireplaceflag</th>\n",
       "      <th>structuretaxvaluedollarcnt</th>\n",
       "      <th>taxvaluedollarcnt</th>\n",
       "      <th>assessmentyear</th>\n",
       "      <th>landtaxvaluedollarcnt</th>\n",
       "      <th>taxamount</th>\n",
       "      <th>taxdelinquencyflag</th>\n",
       "      <th>taxdelinquencyyear</th>\n",
       "      <th>censustractandblock</th>\n",
       "      <th>random_value</th>\n",
       "    </tr>\n",
       "    <tr>\n",
       "      <th></th>\n",
       "      <th>count</th>\n",
       "      <th>count</th>\n",
       "      <th>count</th>\n",
       "      <th>count</th>\n",
       "      <th>count</th>\n",
       "      <th>count</th>\n",
       "      <th>count</th>\n",
       "      <th>count</th>\n",
       "      <th>count</th>\n",
       "      <th>count</th>\n",
       "      <th>...</th>\n",
       "      <th>count</th>\n",
       "      <th>count</th>\n",
       "      <th>count</th>\n",
       "      <th>count</th>\n",
       "      <th>count</th>\n",
       "      <th>count</th>\n",
       "      <th>count</th>\n",
       "      <th>count</th>\n",
       "      <th>count</th>\n",
       "      <th>count</th>\n",
       "    </tr>\n",
       "    <tr>\n",
       "      <th>decktypeid</th>\n",
       "      <th></th>\n",
       "      <th></th>\n",
       "      <th></th>\n",
       "      <th></th>\n",
       "      <th></th>\n",
       "      <th></th>\n",
       "      <th></th>\n",
       "      <th></th>\n",
       "      <th></th>\n",
       "      <th></th>\n",
       "      <th></th>\n",
       "      <th></th>\n",
       "      <th></th>\n",
       "      <th></th>\n",
       "      <th></th>\n",
       "      <th></th>\n",
       "      <th></th>\n",
       "      <th></th>\n",
       "      <th></th>\n",
       "      <th></th>\n",
       "      <th></th>\n",
       "    </tr>\n",
       "  </thead>\n",
       "  <tbody>\n",
       "    <tr>\n",
       "      <th>66.0</th>\n",
       "      <td>120</td>\n",
       "      <td>120</td>\n",
       "      <td>120</td>\n",
       "      <td>0</td>\n",
       "      <td>0</td>\n",
       "      <td>120</td>\n",
       "      <td>120</td>\n",
       "      <td>120</td>\n",
       "      <td>0</td>\n",
       "      <td>0</td>\n",
       "      <td>...</td>\n",
       "      <td>0</td>\n",
       "      <td>120</td>\n",
       "      <td>120</td>\n",
       "      <td>120</td>\n",
       "      <td>120</td>\n",
       "      <td>120</td>\n",
       "      <td>2</td>\n",
       "      <td>2</td>\n",
       "      <td>120</td>\n",
       "      <td>120</td>\n",
       "    </tr>\n",
       "  </tbody>\n",
       "</table>\n",
       "<p>1 rows × 60 columns</p>\n",
       "</div>"
      ],
      "text/plain": [
       "           parcelid logerror transactiondate airconditioningtypeid  \\\n",
       "              count    count           count                 count   \n",
       "decktypeid                                                           \n",
       "66.0            120      120             120                     0   \n",
       "\n",
       "           architecturalstyletypeid basementsqft bathroomcnt bedroomcnt  \\\n",
       "                              count        count       count      count   \n",
       "decktypeid                                                                \n",
       "66.0                              0          120         120        120   \n",
       "\n",
       "           buildingclasstypeid buildingqualitytypeid     ...       \\\n",
       "                         count                 count     ...        \n",
       "decktypeid                                               ...        \n",
       "66.0                         0                     0     ...        \n",
       "\n",
       "           fireplaceflag structuretaxvaluedollarcnt taxvaluedollarcnt  \\\n",
       "                   count                      count             count   \n",
       "decktypeid                                                              \n",
       "66.0                   0                        120               120   \n",
       "\n",
       "           assessmentyear landtaxvaluedollarcnt taxamount taxdelinquencyflag  \\\n",
       "                    count                 count     count              count   \n",
       "decktypeid                                                                     \n",
       "66.0                  120                   120       120                  2   \n",
       "\n",
       "           taxdelinquencyyear censustractandblock random_value  \n",
       "                        count               count        count  \n",
       "decktypeid                                                      \n",
       "66.0                        2                 120          120  \n",
       "\n",
       "[1 rows x 60 columns]"
      ]
     },
     "execution_count": 42,
     "metadata": {},
     "output_type": "execute_result"
    }
   ],
   "source": [
    "training_sample.groupby(['decktypeid']).agg(['count'])"
   ]
  },
  {
   "cell_type": "code",
   "execution_count": 44,
   "metadata": {
    "collapsed": true
   },
   "outputs": [],
   "source": [
    "# Setting 0 for all NA values for now\n",
    "# Absence suggests the entity doesn't exist and central tendency should not be replacement\n",
    "# E.g., even for square footage, maybe we're talking an empty lost with no such measure\n",
    "# All documented multicategorical variables start from 1; 0 is good way to capture information on NAs\n",
    "# Am I treating an boolean values properly? Might make sense to create a third category to capture information on NAs\n",
    "training_sample[['basementsqft']] = training_sample[['basementsqft']].fillna(0)\n",
    "training_sample[['bathroomcnt']] = training_sample[['bathroomcnt']].fillna(0)\n",
    "training_sample[['bedroomcnt']] = training_sample[['bedroomcnt']].fillna(0)\n",
    "training_sample[['calculatedbathnbr']] = training_sample[['calculatedbathnbr']].fillna(0)\n",
    "training_sample[['threequarterbathnbr']] = training_sample[['threequarterbathnbr']].fillna(0)\n",
    "training_sample[['finishedfloor1squarefeet']] = training_sample[['finishedfloor1squarefeet']].fillna(0)\n",
    "training_sample[['calculatedfinishedsquarefeet']] = training_sample[['calculatedfinishedsquarefeet']].fillna(0)\n",
    "training_sample[['finishedsquarefeet6']] = training_sample[['finishedsquarefeet6']].fillna(0)\n",
    "training_sample[['finishedsquarefeet12']] = training_sample[['finishedsquarefeet12']].fillna(0)\n",
    "training_sample[['finishedsquarefeet13']] = training_sample[['finishedsquarefeet13']].fillna(0)\n",
    "training_sample[['finishedsquarefeet15']] = training_sample[['finishedsquarefeet15']].fillna(0)\n",
    "training_sample[['finishedsquarefeet50']] = training_sample[['finishedsquarefeet50']].fillna(0)\n",
    "training_sample[['fireplacecnt']] = training_sample[['fireplacecnt']].fillna(0)\n",
    "training_sample[['fullbathcnt']] = training_sample[['fullbathcnt']].fillna(0)\n",
    "training_sample[['garagecarcnt']] = training_sample[['garagecarcnt']].fillna(0)\n",
    "training_sample[['garagetotalsqft']] = training_sample[['garagetotalsqft']].fillna(0)\n",
    "training_sample[['latitude']] = training_sample[['latitude']].fillna(0)\n",
    "training_sample[['longitude']] = training_sample[['longitude']].fillna(0)\n",
    "training_sample[['lotsizesquarefeet']] = training_sample[['lotsizesquarefeet']].fillna(0)\n",
    "training_sample[['numberofstories']] = training_sample[['numberofstories']].fillna(0)\n",
    "training_sample[['poolsizesum']] = training_sample[['poolsizesum']].fillna(0)\n",
    "training_sample[['roomcnt']] = training_sample[['roomcnt']].fillna(0)\n",
    "training_sample[['unitcnt']] = training_sample[['unitcnt']].fillna(0)\n",
    "training_sample[['yardbuildingsqft17']] = training_sample[['yardbuildingsqft17']].fillna(0)\n",
    "training_sample[['yardbuildingsqft26']] = training_sample[['yardbuildingsqft26']].fillna(0)\n",
    "training_sample[['taxvaluedollarcnt']] = training_sample[['taxvaluedollarcnt']].fillna(0)\n",
    "training_sample[['structuretaxvaluedollarcnt']] = training_sample[['structuretaxvaluedollarcnt']].fillna(0)\n",
    "training_sample[['landtaxvaluedollarcnt']] = training_sample[['landtaxvaluedollarcnt']].fillna(0)\n",
    "training_sample[['taxamount']] = training_sample[['taxamount']].fillna(0)\n",
    "training_sample[['decktypeid']] = training_sample[['decktypeid']].fillna(0)\n",
    "training_sample[['poolcnt']] = training_sample[['poolcnt']].fillna(0)\n",
    "training_sample[['pooltypeid10']] = training_sample[['pooltypeid10']].fillna(0)\n",
    "training_sample[['pooltypeid2']] = training_sample[['pooltypeid2']].fillna(0)\n",
    "training_sample[['pooltypeid7']] = training_sample[['pooltypeid7']].fillna(0)\n",
    "training_sample[['airconditioningtypeid']] = training_sample[['airconditioningtypeid']].fillna(0)\n",
    "training_sample[['architecturalstyletypeid']] = training_sample[['architecturalstyletypeid']].fillna(0)\n",
    "training_sample[['buildingqualitytypeid']] = training_sample[['buildingqualitytypeid']].fillna(0)\n",
    "training_sample[['buildingclasstypeid']] = training_sample[['buildingclasstypeid']].fillna(0)\n",
    "training_sample[['fips']] = training_sample[['fips']].fillna(0)\n",
    "training_sample[['fireplaceflag']] = training_sample[['fireplaceflag']].fillna(0)\n",
    "training_sample[['hashottuborspa']] = training_sample[['hashottuborspa']].fillna(0)\n",
    "training_sample[['heatingorsystemtypeid']] = training_sample[['heatingorsystemtypeid']].fillna(0)\n",
    "training_sample[['parcelid']] = training_sample[['parcelid']].fillna(0)\n",
    "training_sample[['propertycountylandusecode']] = training_sample[['propertycountylandusecode']].fillna(0)\n",
    "training_sample[['propertylandusetypeid']] = training_sample[['propertylandusetypeid']].fillna(0)\n",
    "training_sample[['propertyzoningdesc']] = training_sample[['propertyzoningdesc']].fillna(0)\n",
    "training_sample[['rawcensustractandblock']] = training_sample[['rawcensustractandblock']].fillna(0)\n",
    "training_sample[['censustractandblock']] = training_sample[['censustractandblock']].fillna(0)\n",
    "training_sample[['regionidcounty']] = training_sample[['regionidcounty']].fillna(0)\n",
    "training_sample[['regionidcity']] = training_sample[['regionidcity']].fillna(0)\n",
    "training_sample[['regionidzip']] = training_sample[['regionidzip']].fillna(0)\n",
    "training_sample[['regionidneighborhood']] = training_sample[['regionidneighborhood']].fillna(0)\n",
    "training_sample[['storytypeid']] = training_sample[['storytypeid']].fillna(0)\n",
    "training_sample[['typeconstructiontypeid']] = training_sample[['typeconstructiontypeid']].fillna(0)\n",
    "training_sample[['yearbuilt']] = training_sample[['yearbuilt']].fillna(0)\n",
    "training_sample[['assessmentyear']] = training_sample[['assessmentyear']].fillna(0)\n",
    "training_sample[['taxdelinquencyflag']] = training_sample[['taxdelinquencyflag']].fillna(0)\n",
    "training_sample[['taxdelinquencyyear']] = training_sample[['taxdelinquencyyear']].fillna(0)\n",
    "\n",
    "training_sample.to_csv(\"/Users/David/Desktop/Zillow/denulled_training_sample.csv\", sep=',', index=False)"
   ]
  },
  {
   "cell_type": "code",
   "execution_count": 4,
   "metadata": {},
   "outputs": [
    {
     "data": {
      "text/html": [
       "<div>\n",
       "<style>\n",
       "    .dataframe thead tr:only-child th {\n",
       "        text-align: right;\n",
       "    }\n",
       "\n",
       "    .dataframe thead th {\n",
       "        text-align: left;\n",
       "    }\n",
       "\n",
       "    .dataframe tbody tr th {\n",
       "        vertical-align: top;\n",
       "    }\n",
       "</style>\n",
       "<table border=\"1\" class=\"dataframe\">\n",
       "  <thead>\n",
       "    <tr style=\"text-align: right;\">\n",
       "      <th></th>\n",
       "      <th>parcelid</th>\n",
       "      <th>logerror</th>\n",
       "      <th>transactiondate</th>\n",
       "      <th>airconditioningtypeid</th>\n",
       "      <th>architecturalstyletypeid</th>\n",
       "      <th>basementsqft</th>\n",
       "      <th>bathroomcnt</th>\n",
       "      <th>bedroomcnt</th>\n",
       "      <th>buildingclasstypeid</th>\n",
       "      <th>buildingqualitytypeid</th>\n",
       "      <th>...</th>\n",
       "      <th>fireplaceflag</th>\n",
       "      <th>structuretaxvaluedollarcnt</th>\n",
       "      <th>taxvaluedollarcnt</th>\n",
       "      <th>assessmentyear</th>\n",
       "      <th>landtaxvaluedollarcnt</th>\n",
       "      <th>taxamount</th>\n",
       "      <th>taxdelinquencyflag</th>\n",
       "      <th>taxdelinquencyyear</th>\n",
       "      <th>censustractandblock</th>\n",
       "      <th>random_value</th>\n",
       "    </tr>\n",
       "  </thead>\n",
       "  <tbody>\n",
       "    <tr>\n",
       "      <th>0</th>\n",
       "      <td>11267116</td>\n",
       "      <td>0.084875</td>\n",
       "      <td>2017-06-21</td>\n",
       "      <td>0.0</td>\n",
       "      <td>0.0</td>\n",
       "      <td>0.0</td>\n",
       "      <td>2.0</td>\n",
       "      <td>5.0</td>\n",
       "      <td>0.0</td>\n",
       "      <td>4.0</td>\n",
       "      <td>...</td>\n",
       "      <td>0</td>\n",
       "      <td>117747.0</td>\n",
       "      <td>147182.0</td>\n",
       "      <td>2016.0</td>\n",
       "      <td>29435.0</td>\n",
       "      <td>2537.05</td>\n",
       "      <td>0</td>\n",
       "      <td>0.0</td>\n",
       "      <td>6.037901e+13</td>\n",
       "      <td>-4.707495</td>\n",
       "    </tr>\n",
       "    <tr>\n",
       "      <th>1</th>\n",
       "      <td>12941171</td>\n",
       "      <td>0.041719</td>\n",
       "      <td>2017-07-19</td>\n",
       "      <td>0.0</td>\n",
       "      <td>0.0</td>\n",
       "      <td>0.0</td>\n",
       "      <td>2.0</td>\n",
       "      <td>4.0</td>\n",
       "      <td>0.0</td>\n",
       "      <td>6.0</td>\n",
       "      <td>...</td>\n",
       "      <td>0</td>\n",
       "      <td>134000.0</td>\n",
       "      <td>397000.0</td>\n",
       "      <td>2016.0</td>\n",
       "      <td>263000.0</td>\n",
       "      <td>5174.59</td>\n",
       "      <td>0</td>\n",
       "      <td>0.0</td>\n",
       "      <td>6.037407e+13</td>\n",
       "      <td>-4.396730</td>\n",
       "    </tr>\n",
       "    <tr>\n",
       "      <th>2</th>\n",
       "      <td>14602106</td>\n",
       "      <td>-0.048100</td>\n",
       "      <td>2016-07-05</td>\n",
       "      <td>0.0</td>\n",
       "      <td>0.0</td>\n",
       "      <td>0.0</td>\n",
       "      <td>2.5</td>\n",
       "      <td>2.0</td>\n",
       "      <td>0.0</td>\n",
       "      <td>0.0</td>\n",
       "      <td>...</td>\n",
       "      <td>0</td>\n",
       "      <td>154894.0</td>\n",
       "      <td>392000.0</td>\n",
       "      <td>2015.0</td>\n",
       "      <td>237106.0</td>\n",
       "      <td>6121.24</td>\n",
       "      <td>0</td>\n",
       "      <td>0.0</td>\n",
       "      <td>6.059032e+13</td>\n",
       "      <td>-4.338861</td>\n",
       "    </tr>\n",
       "  </tbody>\n",
       "</table>\n",
       "<p>3 rows × 61 columns</p>\n",
       "</div>"
      ],
      "text/plain": [
       "   parcelid  logerror transactiondate  airconditioningtypeid  \\\n",
       "0  11267116  0.084875      2017-06-21                    0.0   \n",
       "1  12941171  0.041719      2017-07-19                    0.0   \n",
       "2  14602106 -0.048100      2016-07-05                    0.0   \n",
       "\n",
       "   architecturalstyletypeid  basementsqft  bathroomcnt  bedroomcnt  \\\n",
       "0                       0.0           0.0          2.0         5.0   \n",
       "1                       0.0           0.0          2.0         4.0   \n",
       "2                       0.0           0.0          2.5         2.0   \n",
       "\n",
       "   buildingclasstypeid  buildingqualitytypeid      ...       fireplaceflag  \\\n",
       "0                  0.0                    4.0      ...                   0   \n",
       "1                  0.0                    6.0      ...                   0   \n",
       "2                  0.0                    0.0      ...                   0   \n",
       "\n",
       "   structuretaxvaluedollarcnt  taxvaluedollarcnt  assessmentyear  \\\n",
       "0                    117747.0           147182.0          2016.0   \n",
       "1                    134000.0           397000.0          2016.0   \n",
       "2                    154894.0           392000.0          2015.0   \n",
       "\n",
       "   landtaxvaluedollarcnt  taxamount  taxdelinquencyflag  taxdelinquencyyear  \\\n",
       "0                29435.0    2537.05                   0                 0.0   \n",
       "1               263000.0    5174.59                   0                 0.0   \n",
       "2               237106.0    6121.24                   0                 0.0   \n",
       "\n",
       "   censustractandblock  random_value  \n",
       "0         6.037901e+13     -4.707495  \n",
       "1         6.037407e+13     -4.396730  \n",
       "2         6.059032e+13     -4.338861  \n",
       "\n",
       "[3 rows x 61 columns]"
      ]
     },
     "execution_count": 4,
     "metadata": {},
     "output_type": "execute_result"
    }
   ],
   "source": [
    "denulled_training_sample = pd.read_csv('/Users/David/Desktop/Zillow/denulled_training_sample.csv')\n",
    "denulled_training_sample.head(3)"
   ]
  },
  {
   "cell_type": "code",
   "execution_count": 36,
   "metadata": {},
   "outputs": [
    {
     "data": {
      "text/plain": [
       "DecisionTreeRegressor(criterion='mse', max_depth=5, max_features=None,\n",
       "           max_leaf_nodes=None, min_impurity_decrease=0.0,\n",
       "           min_impurity_split=None, min_samples_leaf=1,\n",
       "           min_samples_split=2, min_weight_fraction_leaf=0.0,\n",
       "           presort=False, random_state=None, splitter='best')"
      ]
     },
     "execution_count": 36,
     "metadata": {},
     "output_type": "execute_result"
    }
   ],
   "source": [
    "# X, y = training_sample.loc[:, training_sample.columns != 'logerror'], training_sample.logerror\n",
    "X = denulled_training_sample[['basementsqft', 'bathroomcnt', 'bedroomcnt', 'calculatedbathnbr', 'threequarterbathnbr', 'finishedfloor1squarefeet', 'calculatedfinishedsquarefeet', 'finishedsquarefeet6', 'finishedsquarefeet12', 'finishedsquarefeet13', 'finishedsquarefeet15', 'finishedsquarefeet50', 'fireplacecnt', 'fullbathcnt', 'garagecarcnt', 'garagetotalsqft', 'latitude', 'longitude', 'lotsizesquarefeet', 'numberofstories', 'poolsizesum', 'roomcnt', 'unitcnt', 'yardbuildingsqft17', 'yardbuildingsqft26', 'taxvaluedollarcnt', 'structuretaxvaluedollarcnt', 'landtaxvaluedollarcnt', 'taxamount']]\n",
    "y = denulled_training_sample[['logerror']]\n",
    "\n",
    "# from sklearn.cross_validation import cross_val_score\n",
    "# from sklearn.cross_validation import KFold\n",
    "\n",
    "# crossvalidation = KFold(n=X.shape[0], n_folds=5, shuffle=True, random_state=1)\n",
    "\n",
    "# from sklearn import tree\n",
    "# for depth in range(1,10):\n",
    "#  tree_classifier = tree.DecisionTreeClassifier(\n",
    "#   max_depth=depth, random_state=0)\n",
    "#  if tree_classifier.fit(X,y).tree_.max_depth < depth:\n",
    "#    break\n",
    "#  score = np.mean(cross_val_score(tree_classifier, X, y,\n",
    "#   scoring='accuracy', cv=crossvalidation, n_jobs=1))\n",
    "#  print (depth,score)\n",
    "\n",
    "from sklearn.tree import DecisionTreeRegressor\n",
    "\n",
    "regr_1 = DecisionTreeRegressor(max_depth=2)\n",
    "regr_2 = DecisionTreeRegressor(max_depth=5)\n",
    "regr_1.fit(X, y)\n",
    "regr_2.fit(X, y)"
   ]
  },
  {
   "cell_type": "code",
   "execution_count": 51,
   "metadata": {
    "collapsed": true
   },
   "outputs": [],
   "source": [
    "testing_sample = pd.read_csv('/Users/David/Desktop/Zillow/testing_sample.csv')\n",
    "\n",
    "# Setting 0 for all NA values for now\n",
    "# Absence suggests the entity doesn't exist and central tendency should not be replacement\n",
    "# E.g., even for square footage, maybe we're talking an empty lost with no such measure\n",
    "# All documented multicategorical variables start from 1; 0 is good way to capture information on NAs\n",
    "# Am I treating an boolean values properly? Might make sense to create a third category to capture information on NAs\n",
    "testing_sample[['basementsqft']] = testing_sample[['basementsqft']].fillna(0)\n",
    "testing_sample[['bathroomcnt']] = testing_sample[['bathroomcnt']].fillna(0)\n",
    "testing_sample[['bedroomcnt']] = testing_sample[['bedroomcnt']].fillna(0)\n",
    "testing_sample[['calculatedbathnbr']] = testing_sample[['calculatedbathnbr']].fillna(0)\n",
    "testing_sample[['threequarterbathnbr']] = testing_sample[['threequarterbathnbr']].fillna(0)\n",
    "testing_sample[['finishedfloor1squarefeet']] = testing_sample[['finishedfloor1squarefeet']].fillna(0)\n",
    "testing_sample[['calculatedfinishedsquarefeet']] = testing_sample[['calculatedfinishedsquarefeet']].fillna(0)\n",
    "testing_sample[['finishedsquarefeet6']] = testing_sample[['finishedsquarefeet6']].fillna(0)\n",
    "testing_sample[['finishedsquarefeet12']] = testing_sample[['finishedsquarefeet12']].fillna(0)\n",
    "testing_sample[['finishedsquarefeet13']] = testing_sample[['finishedsquarefeet13']].fillna(0)\n",
    "testing_sample[['finishedsquarefeet15']] = testing_sample[['finishedsquarefeet15']].fillna(0)\n",
    "testing_sample[['finishedsquarefeet50']] = testing_sample[['finishedsquarefeet50']].fillna(0)\n",
    "testing_sample[['fireplacecnt']] = testing_sample[['fireplacecnt']].fillna(0)\n",
    "testing_sample[['fullbathcnt']] = testing_sample[['fullbathcnt']].fillna(0)\n",
    "testing_sample[['garagecarcnt']] = testing_sample[['garagecarcnt']].fillna(0)\n",
    "testing_sample[['garagetotalsqft']] = testing_sample[['garagetotalsqft']].fillna(0)\n",
    "testing_sample[['latitude']] = testing_sample[['latitude']].fillna(0)\n",
    "testing_sample[['longitude']] = testing_sample[['longitude']].fillna(0)\n",
    "testing_sample[['lotsizesquarefeet']] = testing_sample[['lotsizesquarefeet']].fillna(0)\n",
    "testing_sample[['numberofstories']] = testing_sample[['numberofstories']].fillna(0)\n",
    "testing_sample[['poolsizesum']] = testing_sample[['poolsizesum']].fillna(0)\n",
    "testing_sample[['roomcnt']] = testing_sample[['roomcnt']].fillna(0)\n",
    "testing_sample[['unitcnt']] = testing_sample[['unitcnt']].fillna(0)\n",
    "testing_sample[['yardbuildingsqft17']] = testing_sample[['yardbuildingsqft17']].fillna(0)\n",
    "testing_sample[['yardbuildingsqft26']] = testing_sample[['yardbuildingsqft26']].fillna(0)\n",
    "testing_sample[['taxvaluedollarcnt']] = testing_sample[['taxvaluedollarcnt']].fillna(0)\n",
    "testing_sample[['structuretaxvaluedollarcnt']] = testing_sample[['structuretaxvaluedollarcnt']].fillna(0)\n",
    "testing_sample[['landtaxvaluedollarcnt']] = testing_sample[['landtaxvaluedollarcnt']].fillna(0)\n",
    "testing_sample[['taxamount']] = testing_sample[['taxamount']].fillna(0)\n",
    "testing_sample[['decktypeid']] = testing_sample[['decktypeid']].fillna(0)\n",
    "testing_sample[['poolcnt']] = testing_sample[['poolcnt']].fillna(0)\n",
    "testing_sample[['pooltypeid10']] = testing_sample[['pooltypeid10']].fillna(0)\n",
    "testing_sample[['pooltypeid2']] = testing_sample[['pooltypeid2']].fillna(0)\n",
    "testing_sample[['pooltypeid7']] = testing_sample[['pooltypeid7']].fillna(0)\n",
    "testing_sample[['airconditioningtypeid']] = testing_sample[['airconditioningtypeid']].fillna(0)\n",
    "testing_sample[['architecturalstyletypeid']] = testing_sample[['architecturalstyletypeid']].fillna(0)\n",
    "testing_sample[['buildingqualitytypeid']] = testing_sample[['buildingqualitytypeid']].fillna(0)\n",
    "testing_sample[['buildingclasstypeid']] = testing_sample[['buildingclasstypeid']].fillna(0)\n",
    "testing_sample[['fips']] = testing_sample[['fips']].fillna(0)\n",
    "testing_sample[['fireplaceflag']] = testing_sample[['fireplaceflag']].fillna(0)\n",
    "testing_sample[['hashottuborspa']] = testing_sample[['hashottuborspa']].fillna(0)\n",
    "testing_sample[['heatingorsystemtypeid']] = testing_sample[['heatingorsystemtypeid']].fillna(0)\n",
    "testing_sample[['parcelid']] = testing_sample[['parcelid']].fillna(0)\n",
    "testing_sample[['propertycountylandusecode']] = testing_sample[['propertycountylandusecode']].fillna(0)\n",
    "testing_sample[['propertylandusetypeid']] = testing_sample[['propertylandusetypeid']].fillna(0)\n",
    "testing_sample[['propertyzoningdesc']] = testing_sample[['propertyzoningdesc']].fillna(0)\n",
    "testing_sample[['rawcensustractandblock']] = testing_sample[['rawcensustractandblock']].fillna(0)\n",
    "testing_sample[['censustractandblock']] = testing_sample[['censustractandblock']].fillna(0)\n",
    "testing_sample[['regionidcounty']] = testing_sample[['regionidcounty']].fillna(0)\n",
    "testing_sample[['regionidcity']] = testing_sample[['regionidcity']].fillna(0)\n",
    "testing_sample[['regionidzip']] = testing_sample[['regionidzip']].fillna(0)\n",
    "testing_sample[['regionidneighborhood']] = testing_sample[['regionidneighborhood']].fillna(0)\n",
    "testing_sample[['storytypeid']] = testing_sample[['storytypeid']].fillna(0)\n",
    "testing_sample[['typeconstructiontypeid']] = testing_sample[['typeconstructiontypeid']].fillna(0)\n",
    "testing_sample[['yearbuilt']] = testing_sample[['yearbuilt']].fillna(0)\n",
    "testing_sample[['assessmentyear']] = testing_sample[['assessmentyear']].fillna(0)\n",
    "testing_sample[['taxdelinquencyflag']] = testing_sample[['taxdelinquencyflag']].fillna(0)\n",
    "testing_sample[['taxdelinquencyyear']] = testing_sample[['taxdelinquencyyear']].fillna(0)\n",
    "\n",
    "testing_sample.to_csv(\"/Users/David/Desktop/Zillow/denulled_testing_sample.csv\", sep=',', index=False)"
   ]
  },
  {
   "cell_type": "code",
   "execution_count": 37,
   "metadata": {},
   "outputs": [
    {
     "data": {
      "text/html": [
       "<div>\n",
       "<style>\n",
       "    .dataframe thead tr:only-child th {\n",
       "        text-align: right;\n",
       "    }\n",
       "\n",
       "    .dataframe thead th {\n",
       "        text-align: left;\n",
       "    }\n",
       "\n",
       "    .dataframe tbody tr th {\n",
       "        vertical-align: top;\n",
       "    }\n",
       "</style>\n",
       "<table border=\"1\" class=\"dataframe\">\n",
       "  <thead>\n",
       "    <tr style=\"text-align: right;\">\n",
       "      <th></th>\n",
       "      <th>parcelid</th>\n",
       "      <th>logerror</th>\n",
       "      <th>transactiondate</th>\n",
       "      <th>airconditioningtypeid</th>\n",
       "      <th>architecturalstyletypeid</th>\n",
       "      <th>basementsqft</th>\n",
       "      <th>bathroomcnt</th>\n",
       "      <th>bedroomcnt</th>\n",
       "      <th>buildingclasstypeid</th>\n",
       "      <th>buildingqualitytypeid</th>\n",
       "      <th>...</th>\n",
       "      <th>fireplaceflag</th>\n",
       "      <th>structuretaxvaluedollarcnt</th>\n",
       "      <th>taxvaluedollarcnt</th>\n",
       "      <th>assessmentyear</th>\n",
       "      <th>landtaxvaluedollarcnt</th>\n",
       "      <th>taxamount</th>\n",
       "      <th>taxdelinquencyflag</th>\n",
       "      <th>taxdelinquencyyear</th>\n",
       "      <th>censustractandblock</th>\n",
       "      <th>random_value</th>\n",
       "    </tr>\n",
       "  </thead>\n",
       "  <tbody>\n",
       "    <tr>\n",
       "      <th>0</th>\n",
       "      <td>14066561</td>\n",
       "      <td>0.006000</td>\n",
       "      <td>2016-06-28</td>\n",
       "      <td>0.0</td>\n",
       "      <td>0.0</td>\n",
       "      <td>0.0</td>\n",
       "      <td>4.5</td>\n",
       "      <td>4.0</td>\n",
       "      <td>0.0</td>\n",
       "      <td>0.0</td>\n",
       "      <td>...</td>\n",
       "      <td>0</td>\n",
       "      <td>405720.0</td>\n",
       "      <td>869788.0</td>\n",
       "      <td>2015.0</td>\n",
       "      <td>464068.0</td>\n",
       "      <td>9878.64</td>\n",
       "      <td>0</td>\n",
       "      <td>0.0</td>\n",
       "      <td>6.059099e+13</td>\n",
       "      <td>-1.275838</td>\n",
       "    </tr>\n",
       "    <tr>\n",
       "      <th>1</th>\n",
       "      <td>10722453</td>\n",
       "      <td>-0.013013</td>\n",
       "      <td>2017-02-26</td>\n",
       "      <td>0.0</td>\n",
       "      <td>0.0</td>\n",
       "      <td>0.0</td>\n",
       "      <td>2.0</td>\n",
       "      <td>3.0</td>\n",
       "      <td>0.0</td>\n",
       "      <td>6.0</td>\n",
       "      <td>...</td>\n",
       "      <td>0</td>\n",
       "      <td>45283.0</td>\n",
       "      <td>67207.0</td>\n",
       "      <td>2016.0</td>\n",
       "      <td>21924.0</td>\n",
       "      <td>1001.64</td>\n",
       "      <td>0</td>\n",
       "      <td>0.0</td>\n",
       "      <td>6.037134e+13</td>\n",
       "      <td>-1.275838</td>\n",
       "    </tr>\n",
       "    <tr>\n",
       "      <th>2</th>\n",
       "      <td>11182806</td>\n",
       "      <td>0.009741</td>\n",
       "      <td>2017-04-07</td>\n",
       "      <td>1.0</td>\n",
       "      <td>0.0</td>\n",
       "      <td>0.0</td>\n",
       "      <td>2.0</td>\n",
       "      <td>3.0</td>\n",
       "      <td>0.0</td>\n",
       "      <td>8.0</td>\n",
       "      <td>...</td>\n",
       "      <td>0</td>\n",
       "      <td>113294.0</td>\n",
       "      <td>141611.0</td>\n",
       "      <td>2016.0</td>\n",
       "      <td>28317.0</td>\n",
       "      <td>4098.72</td>\n",
       "      <td>0</td>\n",
       "      <td>0.0</td>\n",
       "      <td>6.037910e+13</td>\n",
       "      <td>-1.275828</td>\n",
       "    </tr>\n",
       "  </tbody>\n",
       "</table>\n",
       "<p>3 rows × 61 columns</p>\n",
       "</div>"
      ],
      "text/plain": [
       "   parcelid  logerror transactiondate  airconditioningtypeid  \\\n",
       "0  14066561  0.006000      2016-06-28                    0.0   \n",
       "1  10722453 -0.013013      2017-02-26                    0.0   \n",
       "2  11182806  0.009741      2017-04-07                    1.0   \n",
       "\n",
       "   architecturalstyletypeid  basementsqft  bathroomcnt  bedroomcnt  \\\n",
       "0                       0.0           0.0          4.5         4.0   \n",
       "1                       0.0           0.0          2.0         3.0   \n",
       "2                       0.0           0.0          2.0         3.0   \n",
       "\n",
       "   buildingclasstypeid  buildingqualitytypeid      ...       fireplaceflag  \\\n",
       "0                  0.0                    0.0      ...                   0   \n",
       "1                  0.0                    6.0      ...                   0   \n",
       "2                  0.0                    8.0      ...                   0   \n",
       "\n",
       "   structuretaxvaluedollarcnt  taxvaluedollarcnt  assessmentyear  \\\n",
       "0                    405720.0           869788.0          2015.0   \n",
       "1                     45283.0            67207.0          2016.0   \n",
       "2                    113294.0           141611.0          2016.0   \n",
       "\n",
       "   landtaxvaluedollarcnt  taxamount  taxdelinquencyflag  taxdelinquencyyear  \\\n",
       "0               464068.0    9878.64                   0                 0.0   \n",
       "1                21924.0    1001.64                   0                 0.0   \n",
       "2                28317.0    4098.72                   0                 0.0   \n",
       "\n",
       "   censustractandblock  random_value  \n",
       "0         6.059099e+13     -1.275838  \n",
       "1         6.037134e+13     -1.275838  \n",
       "2         6.037910e+13     -1.275828  \n",
       "\n",
       "[3 rows x 61 columns]"
      ]
     },
     "execution_count": 37,
     "metadata": {},
     "output_type": "execute_result"
    }
   ],
   "source": [
    "denulled_testing_sample = pd.read_csv('/Users/David/Desktop/Zillow/denulled_testing_sample.csv')\n",
    "denulled_testing_sample.head(3)"
   ]
  },
  {
   "cell_type": "code",
   "execution_count": 38,
   "metadata": {},
   "outputs": [
    {
     "name": "stdout",
     "output_type": "stream",
     "text": [
      "0.000336456947642\n"
     ]
    }
   ],
   "source": [
    "X_test = denulled_testing_sample[['basementsqft', 'bathroomcnt', 'bedroomcnt', 'calculatedbathnbr', 'threequarterbathnbr', 'finishedfloor1squarefeet', 'calculatedfinishedsquarefeet', 'finishedsquarefeet6', 'finishedsquarefeet12', 'finishedsquarefeet13', 'finishedsquarefeet15', 'finishedsquarefeet50', 'fireplacecnt', 'fullbathcnt', 'garagecarcnt', 'garagetotalsqft', 'latitude', 'longitude', 'lotsizesquarefeet', 'numberofstories', 'poolsizesum', 'roomcnt', 'unitcnt', 'yardbuildingsqft17', 'yardbuildingsqft26', 'taxvaluedollarcnt', 'structuretaxvaluedollarcnt', 'landtaxvaluedollarcnt', 'taxamount']]\n",
    "y_test = denulled_testing_sample[['logerror']]\n",
    "\n",
    "score = regr_1.score(X_test, y_test)\n",
    "print(score)\n"
   ]
  },
  {
   "cell_type": "code",
   "execution_count": 9,
   "metadata": {},
   "outputs": [
    {
     "name": "stdout",
     "output_type": "stream",
     "text": [
      "0.00272889674769\n"
     ]
    }
   ],
   "source": [
    "score = regr_2.score(X_test, y_test)\n",
    "print(score)\n"
   ]
  },
  {
   "cell_type": "code",
   "execution_count": 11,
   "metadata": {},
   "outputs": [
    {
     "data": {
      "text/plain": [
       "0.18324573433604957"
      ]
     },
     "execution_count": 11,
     "metadata": {},
     "output_type": "execute_result"
    }
   ],
   "source": [
    "from sklearn.model_selection import cross_val_score\n",
    "from numpy import median\n",
    "\n",
    "score = cross_val_score(regr_1, X_test, y_test, scoring = 'neg_mean_squared_error', cv = 5)\n",
    "median(abs(score) ** (1/2))"
   ]
  },
  {
   "cell_type": "code",
   "execution_count": 12,
   "metadata": {},
   "outputs": [
    {
     "data": {
      "text/plain": [
       "0.18722759506901107"
      ]
     },
     "execution_count": 12,
     "metadata": {},
     "output_type": "execute_result"
    }
   ],
   "source": [
    "from sklearn.model_selection import cross_val_score\n",
    "\n",
    "score = cross_val_score(regr_2, X_test, y_test, scoring = 'neg_mean_squared_error', cv = 5)\n",
    "median(abs(score) ** (1/2))"
   ]
  },
  {
   "cell_type": "code",
   "execution_count": 13,
   "metadata": {},
   "outputs": [
    {
     "data": {
      "text/plain": [
       "DecisionTreeRegressor(criterion='mse', max_depth=10, max_features=None,\n",
       "           max_leaf_nodes=None, min_impurity_decrease=0.0,\n",
       "           min_impurity_split=None, min_samples_leaf=1,\n",
       "           min_samples_split=2, min_weight_fraction_leaf=0.0,\n",
       "           presort=False, random_state=None, splitter='best')"
      ]
     },
     "execution_count": 13,
     "metadata": {},
     "output_type": "execute_result"
    }
   ],
   "source": [
    "# X = denulled_training_sample.drop(['propertycountylandusecode', 'propertyzoningdesc', 'transactiondate', 'logerror', 'fireplaceflag', 'taxdelinquencyflag', 'random_value', 'hashottuborspa'], axis=1)\n",
    "X = denulled_training_sample[['parcelid', 'airconditioningtypeid',\n",
    "'architecturalstyletypeid', 'basementsqft', 'bathroomcnt', 'bedroomcnt',\n",
    "'buildingclasstypeid', 'buildingqualitytypeid', 'calculatedbathnbr',\n",
    "'decktypeid', 'finishedfloor1squarefeet',\n",
    "'calculatedfinishedsquarefeet', 'finishedsquarefeet12',\n",
    "'finishedsquarefeet13', 'finishedsquarefeet15', 'finishedsquarefeet50',\n",
    "'finishedsquarefeet6', 'fips', 'fireplacecnt', 'fullbathcnt',\n",
    "'garagecarcnt', 'garagetotalsqft',\n",
    "'heatingorsystemtypeid', 'latitude', 'longitude', 'lotsizesquarefeet',\n",
    "'poolcnt', 'poolsizesum', 'pooltypeid10', 'pooltypeid2', 'pooltypeid7', 'propertylandusetypeid', 'rawcensustractandblock', 'regionidcity',\n",
    "'regionidcounty', 'regionidneighborhood', 'regionidzip', 'roomcnt',\n",
    "'storytypeid', 'threequarterbathnbr', 'typeconstructiontypeid',\n",
    "'unitcnt', 'yardbuildingsqft17', 'yardbuildingsqft26', 'yearbuilt',\n",
    "'numberofstories', 'structuretaxvaluedollarcnt',\n",
    "'taxvaluedollarcnt', 'assessmentyear', 'landtaxvaluedollarcnt',\n",
    "'taxamount', 'taxdelinquencyyear',\n",
    "'censustractandblock']]\n",
    "y = denulled_training_sample[['logerror']]\n",
    "\n",
    "regr_1 = DecisionTreeRegressor(max_depth=2)\n",
    "regr_2 = DecisionTreeRegressor(max_depth=3)\n",
    "regr_3 = DecisionTreeRegressor(max_depth=4)\n",
    "regr_4 = DecisionTreeRegressor(max_depth=5)\n",
    "regr_5 = DecisionTreeRegressor(max_depth=10)\n",
    "\n",
    "regr_1.fit(X, y)\n",
    "regr_2.fit(X, y)\n",
    "regr_3.fit(X, y)\n",
    "regr_4.fit(X, y)\n",
    "regr_5.fit(X, y)"
   ]
  },
  {
   "cell_type": "code",
   "execution_count": 14,
   "metadata": {},
   "outputs": [
    {
     "data": {
      "text/plain": [
       "0.18324573433604957"
      ]
     },
     "execution_count": 14,
     "metadata": {},
     "output_type": "execute_result"
    }
   ],
   "source": [
    "score = cross_val_score(regr_1, X_test, y_test, scoring = 'neg_mean_squared_error', cv = 5)\n",
    "median(abs(score) ** (1/2))"
   ]
  },
  {
   "cell_type": "code",
   "execution_count": 16,
   "metadata": {},
   "outputs": [
    {
     "data": {
      "text/plain": [
       "0.18809249054489677"
      ]
     },
     "execution_count": 16,
     "metadata": {},
     "output_type": "execute_result"
    }
   ],
   "source": [
    "score = cross_val_score(regr_2, X_test, y_test, scoring = 'neg_mean_squared_error', cv = 5)\n",
    "median(abs(score) ** (1/2))"
   ]
  },
  {
   "cell_type": "code",
   "execution_count": 19,
   "metadata": {},
   "outputs": [
    {
     "data": {
      "text/plain": [
       "0.18906486026339453"
      ]
     },
     "execution_count": 19,
     "metadata": {},
     "output_type": "execute_result"
    }
   ],
   "source": [
    "score = cross_val_score(regr_3, X_test, y_test, scoring = 'neg_mean_squared_error', cv = 5)\n",
    "median(abs(score) ** (1/2))"
   ]
  },
  {
   "cell_type": "code",
   "execution_count": 18,
   "metadata": {},
   "outputs": [
    {
     "data": {
      "text/plain": [
       "0.19392464681130719"
      ]
     },
     "execution_count": 18,
     "metadata": {},
     "output_type": "execute_result"
    }
   ],
   "source": [
    "score = cross_val_score(regr_4, X_test, y_test, scoring = 'neg_mean_squared_error', cv = 5)\n",
    "median(abs(score) ** (1/2))"
   ]
  },
  {
   "cell_type": "code",
   "execution_count": 17,
   "metadata": {},
   "outputs": [
    {
     "data": {
      "text/plain": [
       "0.23482174740546741"
      ]
     },
     "execution_count": 17,
     "metadata": {},
     "output_type": "execute_result"
    }
   ],
   "source": [
    "score = cross_val_score(regr_5, X_test, y_test, scoring = 'neg_mean_squared_error', cv = 5)\n",
    "median(abs(score) ** (1/2))"
   ]
  },
  {
   "cell_type": "code",
   "execution_count": 22,
   "metadata": {
    "collapsed": true
   },
   "outputs": [],
   "source": [
    "regr_6 = DecisionTreeRegressor(max_depth=1)"
   ]
  },
  {
   "cell_type": "code",
   "execution_count": 39,
   "metadata": {},
   "outputs": [
    {
     "data": {
      "text/plain": [
       "DecisionTreeRegressor(criterion='mse', max_depth=1, max_features=None,\n",
       "           max_leaf_nodes=None, min_impurity_decrease=0.0,\n",
       "           min_impurity_split=None, min_samples_leaf=1,\n",
       "           min_samples_split=2, min_weight_fraction_leaf=0.0,\n",
       "           presort=False, random_state=None, splitter='best')"
      ]
     },
     "execution_count": 39,
     "metadata": {},
     "output_type": "execute_result"
    }
   ],
   "source": [
    "regr_6.fit(X, y)"
   ]
  },
  {
   "cell_type": "code",
   "execution_count": 40,
   "metadata": {},
   "outputs": [
    {
     "data": {
      "text/plain": [
       "0.17297460569726286"
      ]
     },
     "execution_count": 40,
     "metadata": {},
     "output_type": "execute_result"
    }
   ],
   "source": [
    "score = cross_val_score(regr_6, X_test, y_test, scoring = 'neg_mean_squared_error', cv = 5)\n",
    "median(abs(score) ** (1/2))"
   ]
  },
  {
   "cell_type": "code",
   "execution_count": 49,
   "metadata": {},
   "outputs": [
    {
     "data": {
      "text/plain": [
       "array([ 0.01241544,  0.03014724,  0.01241544, ...,  0.01241544,\n",
       "        0.01241544,  0.01241544])"
      ]
     },
     "execution_count": 49,
     "metadata": {},
     "output_type": "execute_result"
    }
   ],
   "source": [
    "from pandas import DataFrame\n",
    "\n",
    "DataFrame(regr_6.predict(X_test))"
   ]
  },
  {
   "cell_type": "code",
   "execution_count": 50,
   "metadata": {},
   "outputs": [],
   "source": [
    "DataFrame(regr_6.predict(X_test)).to_csv(\"/Users/David/Desktop/Zillow/testing_sample_predictions_DecisionTreeRegressor.csv\", sep=',', index=False)\n"
   ]
  },
  {
   "cell_type": "code",
   "execution_count": null,
   "metadata": {
    "collapsed": true
   },
   "outputs": [],
   "source": []
  }
 ],
 "metadata": {
  "kernelspec": {
   "display_name": "Python 3",
   "language": "python",
   "name": "python3"
  },
  "language_info": {
   "codemirror_mode": {
    "name": "ipython",
    "version": 3
   },
   "file_extension": ".py",
   "mimetype": "text/x-python",
   "name": "python",
   "nbconvert_exporter": "python",
   "pygments_lexer": "ipython3",
   "version": "3.6.3"
  }
 },
 "nbformat": 4,
 "nbformat_minor": 2
}
