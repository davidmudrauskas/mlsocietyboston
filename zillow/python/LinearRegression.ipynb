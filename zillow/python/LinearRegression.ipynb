{
 "cells": [
  {
   "cell_type": "code",
   "execution_count": 1,
   "metadata": {},
   "outputs": [
    {
     "data": {
      "text/html": [
       "<div>\n",
       "<style>\n",
       "    .dataframe thead tr:only-child th {\n",
       "        text-align: right;\n",
       "    }\n",
       "\n",
       "    .dataframe thead th {\n",
       "        text-align: left;\n",
       "    }\n",
       "\n",
       "    .dataframe tbody tr th {\n",
       "        vertical-align: top;\n",
       "    }\n",
       "</style>\n",
       "<table border=\"1\" class=\"dataframe\">\n",
       "  <thead>\n",
       "    <tr style=\"text-align: right;\">\n",
       "      <th></th>\n",
       "      <th>parcelid</th>\n",
       "      <th>logerror</th>\n",
       "      <th>transactiondate</th>\n",
       "      <th>airconditioningtypeid</th>\n",
       "      <th>architecturalstyletypeid</th>\n",
       "      <th>basementsqft</th>\n",
       "      <th>bathroomcnt</th>\n",
       "      <th>bedroomcnt</th>\n",
       "      <th>buildingclasstypeid</th>\n",
       "      <th>buildingqualitytypeid</th>\n",
       "      <th>...</th>\n",
       "      <th>fireplaceflag</th>\n",
       "      <th>structuretaxvaluedollarcnt</th>\n",
       "      <th>taxvaluedollarcnt</th>\n",
       "      <th>assessmentyear</th>\n",
       "      <th>landtaxvaluedollarcnt</th>\n",
       "      <th>taxamount</th>\n",
       "      <th>taxdelinquencyflag</th>\n",
       "      <th>taxdelinquencyyear</th>\n",
       "      <th>censustractandblock</th>\n",
       "      <th>random_value</th>\n",
       "    </tr>\n",
       "  </thead>\n",
       "  <tbody>\n",
       "    <tr>\n",
       "      <th>0</th>\n",
       "      <td>11267116</td>\n",
       "      <td>0.084875</td>\n",
       "      <td>2017-06-21</td>\n",
       "      <td>0.0</td>\n",
       "      <td>0.0</td>\n",
       "      <td>0.0</td>\n",
       "      <td>2.0</td>\n",
       "      <td>5.0</td>\n",
       "      <td>0.0</td>\n",
       "      <td>4.0</td>\n",
       "      <td>...</td>\n",
       "      <td>0</td>\n",
       "      <td>117747.0</td>\n",
       "      <td>147182.0</td>\n",
       "      <td>2016.0</td>\n",
       "      <td>29435.0</td>\n",
       "      <td>2537.05</td>\n",
       "      <td>0</td>\n",
       "      <td>0.0</td>\n",
       "      <td>6.037901e+13</td>\n",
       "      <td>-4.707495</td>\n",
       "    </tr>\n",
       "    <tr>\n",
       "      <th>1</th>\n",
       "      <td>12941171</td>\n",
       "      <td>0.041719</td>\n",
       "      <td>2017-07-19</td>\n",
       "      <td>0.0</td>\n",
       "      <td>0.0</td>\n",
       "      <td>0.0</td>\n",
       "      <td>2.0</td>\n",
       "      <td>4.0</td>\n",
       "      <td>0.0</td>\n",
       "      <td>6.0</td>\n",
       "      <td>...</td>\n",
       "      <td>0</td>\n",
       "      <td>134000.0</td>\n",
       "      <td>397000.0</td>\n",
       "      <td>2016.0</td>\n",
       "      <td>263000.0</td>\n",
       "      <td>5174.59</td>\n",
       "      <td>0</td>\n",
       "      <td>0.0</td>\n",
       "      <td>6.037407e+13</td>\n",
       "      <td>-4.396730</td>\n",
       "    </tr>\n",
       "    <tr>\n",
       "      <th>2</th>\n",
       "      <td>14602106</td>\n",
       "      <td>-0.048100</td>\n",
       "      <td>2016-07-05</td>\n",
       "      <td>0.0</td>\n",
       "      <td>0.0</td>\n",
       "      <td>0.0</td>\n",
       "      <td>2.5</td>\n",
       "      <td>2.0</td>\n",
       "      <td>0.0</td>\n",
       "      <td>0.0</td>\n",
       "      <td>...</td>\n",
       "      <td>0</td>\n",
       "      <td>154894.0</td>\n",
       "      <td>392000.0</td>\n",
       "      <td>2015.0</td>\n",
       "      <td>237106.0</td>\n",
       "      <td>6121.24</td>\n",
       "      <td>0</td>\n",
       "      <td>0.0</td>\n",
       "      <td>6.059032e+13</td>\n",
       "      <td>-4.338861</td>\n",
       "    </tr>\n",
       "  </tbody>\n",
       "</table>\n",
       "<p>3 rows × 61 columns</p>\n",
       "</div>"
      ],
      "text/plain": [
       "   parcelid  logerror transactiondate  airconditioningtypeid  \\\n",
       "0  11267116  0.084875      2017-06-21                    0.0   \n",
       "1  12941171  0.041719      2017-07-19                    0.0   \n",
       "2  14602106 -0.048100      2016-07-05                    0.0   \n",
       "\n",
       "   architecturalstyletypeid  basementsqft  bathroomcnt  bedroomcnt  \\\n",
       "0                       0.0           0.0          2.0         5.0   \n",
       "1                       0.0           0.0          2.0         4.0   \n",
       "2                       0.0           0.0          2.5         2.0   \n",
       "\n",
       "   buildingclasstypeid  buildingqualitytypeid      ...       fireplaceflag  \\\n",
       "0                  0.0                    4.0      ...                   0   \n",
       "1                  0.0                    6.0      ...                   0   \n",
       "2                  0.0                    0.0      ...                   0   \n",
       "\n",
       "   structuretaxvaluedollarcnt  taxvaluedollarcnt  assessmentyear  \\\n",
       "0                    117747.0           147182.0          2016.0   \n",
       "1                    134000.0           397000.0          2016.0   \n",
       "2                    154894.0           392000.0          2015.0   \n",
       "\n",
       "   landtaxvaluedollarcnt  taxamount  taxdelinquencyflag  taxdelinquencyyear  \\\n",
       "0                29435.0    2537.05                   0                 0.0   \n",
       "1               263000.0    5174.59                   0                 0.0   \n",
       "2               237106.0    6121.24                   0                 0.0   \n",
       "\n",
       "   censustractandblock  random_value  \n",
       "0         6.037901e+13     -4.707495  \n",
       "1         6.037407e+13     -4.396730  \n",
       "2         6.059032e+13     -4.338861  \n",
       "\n",
       "[3 rows x 61 columns]"
      ]
     },
     "execution_count": 1,
     "metadata": {},
     "output_type": "execute_result"
    }
   ],
   "source": [
    "import pandas as pd\n",
    "\n",
    "# Load the training subset\n",
    "training_sample = pd.read_csv('/Users/David/Desktop/Zillow/denulled_training_sample.csv')\n",
    "training_sample.head(3)"
   ]
  },
  {
   "cell_type": "code",
   "execution_count": 2,
   "metadata": {
    "collapsed": true
   },
   "outputs": [],
   "source": [
    "testing_sample = pd.read_csv('/Users/David/Desktop/Zillow/denulled_testing_sample.csv')\n",
    "\n",
    "destringed_training_sample = training_sample.drop(['propertycountylandusecode', 'propertyzoningdesc', 'transactiondate', 'logerror', 'fireplaceflag', 'taxdelinquencyflag', 'random_value', 'hashottuborspa', 'logerror'], axis=1)\n",
    "destringed_testing_sample = testing_sample.drop(['propertycountylandusecode', 'propertyzoningdesc', 'transactiondate', 'logerror', 'fireplaceflag', 'taxdelinquencyflag', 'random_value', 'hashottuborspa', 'logerror'], axis=1)\n",
    "\n",
    "from sklearn.preprocessing import StandardScaler  \n",
    "scaler = StandardScaler()  \n",
    "scaler.fit(destringed_training_sample)\n",
    "\n",
    "X_train = scaler.transform(destringed_training_sample)\n",
    "X_test = scaler.transform(destringed_testing_sample)\n",
    "\n",
    "y_train = training_sample['logerror']\n",
    "y_test = testing_sample['logerror']"
   ]
  },
  {
   "cell_type": "code",
   "execution_count": 3,
   "metadata": {},
   "outputs": [
    {
     "data": {
      "text/plain": [
       "LinearRegression(copy_X=True, fit_intercept=True, n_jobs=1, normalize=False)"
      ]
     },
     "execution_count": 3,
     "metadata": {},
     "output_type": "execute_result"
    }
   ],
   "source": [
    "from sklearn import datasets, linear_model\n",
    "\n",
    "# Create linear regression object\n",
    "regr = linear_model.LinearRegression()\n",
    "\n",
    "# Train the model using the training sets\n",
    "regr.fit(X_train, y_train)"
   ]
  },
  {
   "cell_type": "code",
   "execution_count": 4,
   "metadata": {
    "collapsed": true
   },
   "outputs": [],
   "source": [
    "y_pred = regr.predict(X_test)\n"
   ]
  },
  {
   "cell_type": "code",
   "execution_count": 7,
   "metadata": {},
   "outputs": [
    {
     "name": "stdout",
     "output_type": "stream",
     "text": [
      "Mean squared error: 0.03\n",
      "Variance score: -0.00\n"
     ]
    }
   ],
   "source": [
    "from sklearn.metrics import mean_squared_error, r2_score\n",
    "\n",
    "# The coefficients\n",
    "# print('Coefficients: \\n', regr.coef_)\n",
    "# The mean squared error\n",
    "print(\"Mean squared error: %.2f\"\n",
    "      % mean_squared_error(y_test, y_pred))\n",
    "# Explained variance score: 1 is perfect prediction\n",
    "print('Variance score: %.2f' % r2_score(y_test, y_pred))"
   ]
  },
  {
   "cell_type": "code",
   "execution_count": 11,
   "metadata": {},
   "outputs": [
    {
     "data": {
      "text/plain": [
       "array([ 0.006     , -0.01301326,  0.0097411 , ..., -0.03309685,\n",
       "        0.0237    ,  0.0247    ])"
      ]
     },
     "execution_count": 11,
     "metadata": {},
     "output_type": "execute_result"
    }
   ],
   "source": [
    "y_test.values"
   ]
  },
  {
   "cell_type": "code",
   "execution_count": 10,
   "metadata": {},
   "outputs": [
    {
     "data": {
      "text/plain": [
       "array([ 0.03880825,  0.01330055,  0.00396095, ...,  0.01984994,\n",
       "        0.00815125,  0.00674637])"
      ]
     },
     "execution_count": 10,
     "metadata": {},
     "output_type": "execute_result"
    }
   ],
   "source": [
    "y_pred"
   ]
  },
  {
   "cell_type": "code",
   "execution_count": 17,
   "metadata": {},
   "outputs": [
    {
     "name": "stdout",
     "output_type": "stream",
     "text": [
      "Mean squared error: 0.03016\n",
      "Mean squared error: 0.17366\n",
      "Variance score: -0.00099\n"
     ]
    }
   ],
   "source": [
    "from sklearn.metrics import mean_squared_error, r2_score\n",
    "\n",
    "# The coefficients\n",
    "# print('Coefficients: \\n', regr.coef_)\n",
    "# The mean squared error\n",
    "print(\"Mean squared error: %.5f\"\n",
    "      % mean_squared_error(y_test.values, y_pred))\n",
    "# RMSE\n",
    "print(\"Mean squared error: %.5f\"\n",
    "      % mean_squared_error(y_test.values, y_pred) ** (1/2) )\n",
    "# Explained variance score: 1 is perfect prediction\n",
    "print('Variance score: %.5f' % r2_score(y_test.values, y_pred))"
   ]
  },
  {
   "cell_type": "code",
   "execution_count": 15,
   "metadata": {},
   "outputs": [
    {
     "name": "stdout",
     "output_type": "stream",
     "text": [
      "0.00943863684745\n"
     ]
    }
   ],
   "source": [
    "print(regr.score(X_train, y_train))"
   ]
  },
  {
   "cell_type": "code",
   "execution_count": 16,
   "metadata": {},
   "outputs": [
    {
     "name": "stdout",
     "output_type": "stream",
     "text": [
      "-0.000989376047675\n"
     ]
    }
   ],
   "source": [
    "print(regr.score(X_test, y_test))"
   ]
  },
  {
   "cell_type": "code",
   "execution_count": 21,
   "metadata": {},
   "outputs": [],
   "source": [
    "training_sample_with_dependent_variable = destringed_training_sample\n",
    "training_sample_with_dependent_variable['logerror'] = training_sample['logerror']"
   ]
  },
  {
   "cell_type": "code",
   "execution_count": 32,
   "metadata": {},
   "outputs": [],
   "source": [
    "absolute_correlations = training_sample_with_dependent_variable.corr().logerror.abs()"
   ]
  },
  {
   "cell_type": "code",
   "execution_count": 36,
   "metadata": {},
   "outputs": [
    {
     "data": {
      "text/plain": [
       "parcelid                        0.013120\n",
       "airconditioningtypeid           0.008656\n",
       "architecturalstyletypeid        0.014568\n",
       "basementsqft                    0.010975\n",
       "bathroomcnt                     0.014915\n",
       "bedroomcnt                      0.020109\n",
       "buildingclasstypeid             0.051899\n",
       "buildingqualitytypeid           0.020767\n",
       "calculatedbathnbr               0.014989\n",
       "decktypeid                      0.005088\n",
       "finishedfloor1squarefeet        0.008458\n",
       "calculatedfinishedsquarefeet    0.022375\n",
       "finishedsquarefeet12            0.027616\n",
       "finishedsquarefeet13            0.007045\n",
       "finishedsquarefeet15            0.010394\n",
       "finishedsquarefeet50            0.008350\n",
       "finishedsquarefeet6             0.005571\n",
       "fips                            0.013788\n",
       "fireplacecnt                    0.021537\n",
       "fullbathcnt                     0.012603\n",
       "garagecarcnt                    0.017952\n",
       "garagetotalsqft                 0.026001\n",
       "heatingorsystemtypeid           0.007366\n",
       "latitude                        0.006742\n",
       "longitude                       0.009729\n",
       "lotsizesquarefeet               0.001791\n",
       "poolcnt                         0.012791\n",
       "poolsizesum                     0.005263\n",
       "pooltypeid10                    0.002089\n",
       "pooltypeid2                     0.014546\n",
       "pooltypeid7                     0.017170\n",
       "propertylandusetypeid           0.028026\n",
       "rawcensustractandblock          0.013768\n",
       "regionidcity                    0.000930\n",
       "regionidcounty                  0.013379\n",
       "regionidneighborhood            0.018100\n",
       "regionidzip                     0.011293\n",
       "roomcnt                         0.016038\n",
       "storytypeid                     0.010992\n",
       "threequarterbathnbr             0.014723\n",
       "typeconstructiontypeid          0.011928\n",
       "unitcnt                         0.007104\n",
       "yardbuildingsqft17              0.011632\n",
       "yardbuildingsqft26              0.002656\n",
       "yearbuilt                       0.000846\n",
       "numberofstories                 0.013452\n",
       "structuretaxvaluedollarcnt      0.007004\n",
       "taxvaluedollarcnt               0.007648\n",
       "assessmentyear                  0.011493\n",
       "landtaxvaluedollarcnt           0.014108\n",
       "taxamount                       0.017199\n",
       "taxdelinquencyyear              0.023628\n",
       "censustractandblock             0.012640\n",
       "logerror                        1.000000\n",
       "Name: logerror, dtype: float64"
      ]
     },
     "execution_count": 36,
     "metadata": {},
     "output_type": "execute_result"
    }
   ],
   "source": [
    "absolute_correlations"
   ]
  },
  {
   "cell_type": "code",
   "execution_count": 50,
   "metadata": {},
   "outputs": [],
   "source": [
    "# Try training on just the most correlated quantitative variables\n",
    "X_train_high_corr = training_sample_with_dependent_variable[['taxamount', 'garagecarcnt', 'bedroomcnt', 'fireplacecnt', 'calculatedfinishedsquarefeet', 'taxdelinquencyyear', 'garagetotalsqft', 'finishedsquarefeet12']]\n",
    "y_train_high_corr = training_sample_with_dependent_variable['logerror']\n",
    "\n",
    "X_test_high_corr = destringed_testing_sample[['taxamount', 'garagecarcnt', 'bedroomcnt', 'fireplacecnt', 'calculatedfinishedsquarefeet', 'taxdelinquencyyear', 'garagetotalsqft', 'finishedsquarefeet12']]\n",
    "y_test_high_corr = y_test"
   ]
  },
  {
   "cell_type": "code",
   "execution_count": 44,
   "metadata": {},
   "outputs": [
    {
     "data": {
      "text/plain": [
       "LinearRegression(copy_X=True, fit_intercept=True, n_jobs=1, normalize=False)"
      ]
     },
     "execution_count": 44,
     "metadata": {},
     "output_type": "execute_result"
    }
   ],
   "source": [
    "# Create linear regression object\n",
    "regr_high_corr = linear_model.LinearRegression()\n",
    "\n",
    "# Train the model using the training sets\n",
    "regr_high_corr.fit(X_train_high_corr, y_train_high_corr)"
   ]
  },
  {
   "cell_type": "code",
   "execution_count": 51,
   "metadata": {},
   "outputs": [
    {
     "name": "stdout",
     "output_type": "stream",
     "text": [
      "Mean squared error: 0.03015\n",
      "Mean squared error: 0.17364\n",
      "Variance score: -0.00078\n"
     ]
    }
   ],
   "source": [
    "y_pred_high_corr = regr_high_corr.predict(X_test_high_corr)\n",
    "\n",
    "# The coefficients\n",
    "# print('Coefficients: \\n', regr.coef_)\n",
    "# The mean squared error\n",
    "print(\"Mean squared error: %.5f\"\n",
    "      % mean_squared_error(y_test_high_corr, y_pred_high_corr))\n",
    "# RMSE\n",
    "print(\"Mean squared error: %.5f\"\n",
    "      % mean_squared_error(y_test_high_corr, y_pred_high_corr) ** (1/2) )\n",
    "# Explained variance score: 1 is perfect prediction\n",
    "print('Variance score: %.5f' % r2_score(y_test_high_corr, y_pred_high_corr))\n",
    "\n",
    "# Selecting just the high-correlation features (correlation >= 0.02) performs worse than including all variables (including categorical, which I shouldn't be doing)\n",
    "# Fitting on noise of excessive and categorical variables doesn't seem to have adverse effect (fitting to noise) since test set should be independent"
   ]
  },
  {
   "cell_type": "code",
   "execution_count": 55,
   "metadata": {},
   "outputs": [
    {
     "name": "stdout",
     "output_type": "stream",
     "text": [
      "0.003174676041\n"
     ]
    }
   ],
   "source": [
    "# Even the training set's R-squared has worse performance\n",
    "# 0.00943863684745\n",
    "print(regr_high_corr.score(X_train_high_corr, y_train_high_corr)) "
   ]
  },
  {
   "cell_type": "code",
   "execution_count": null,
   "metadata": {
    "collapsed": true
   },
   "outputs": [],
   "source": [
    "# TO DO for a linear regression next:\n",
    "# one-hot encoding for categorical variables\n",
    "# Feature engineering -- deltas and booleans for when \"calculated\" variables differe from non-calculated -- check Keshav's code\n",
    "# Combine with another \"weak learner\" (simple average of output) to make a weak-learner ensemble\n",
    "# Stack with XGBoost to establish relationship between weak-learner ensemble predictions and actual logerror"
   ]
  }
 ],
 "metadata": {
  "kernelspec": {
   "display_name": "Python 3",
   "language": "python",
   "name": "python3"
  },
  "language_info": {
   "codemirror_mode": {
    "name": "ipython",
    "version": 3
   },
   "file_extension": ".py",
   "mimetype": "text/x-python",
   "name": "python",
   "nbconvert_exporter": "python",
   "pygments_lexer": "ipython3",
   "version": "3.6.3"
  }
 },
 "nbformat": 4,
 "nbformat_minor": 2
}
