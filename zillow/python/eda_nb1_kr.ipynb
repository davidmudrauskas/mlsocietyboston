{
 "cells": [
  {
   "cell_type": "markdown",
   "metadata": {},
   "source": [
    "#### read in all train and prop files"
   ]
  },
  {
   "cell_type": "code",
   "execution_count": 1,
   "metadata": {
    "collapsed": false
   },
   "outputs": [
    {
     "name": "stderr",
     "output_type": "stream",
     "text": [
      "/Users/kramaswamy/anaconda/envs/py27/lib/python2.7/site-packages/IPython/core/interactiveshell.py:2717: DtypeWarning: Columns (22,32,34,49,55) have mixed types. Specify dtype option on import or set low_memory=False.\n",
      "  interactivity=interactivity, compiler=compiler, result=result)\n",
      "/Users/kramaswamy/anaconda/envs/py27/lib/python2.7/site-packages/IPython/core/interactiveshell.py:2717: DtypeWarning: Columns (49) have mixed types. Specify dtype option on import or set low_memory=False.\n",
      "  interactivity=interactivity, compiler=compiler, result=result)\n"
     ]
    }
   ],
   "source": [
    "prop16_df = pd.read_csv('properties_2016.csv')\n",
    "train_16 = pd.read_csv('train_2016_v2.csv')\n",
    "prop17_df = pd.read_csv('properties_2017.csv')\n",
    "train_17 = pd.read_csv('train_2017.csv')"
   ]
  },
  {
   "cell_type": "code",
   "execution_count": 2,
   "metadata": {
    "collapsed": true
   },
   "outputs": [],
   "source": [
    "continuous_features = ['basementsqft',\n",
    "'bathroomcnt',\n",
    "'bedroomcnt',\n",
    "'calculatedbathnbr',\n",
    "'threequarterbathnbr',\n",
    "'finishedfloor1squarefeet',\n",
    "'calculatedfinishedsquarefeet',\n",
    "'finishedsquarefeet6',\n",
    "'finishedsquarefeet12',\n",
    "'finishedsquarefeet13',\n",
    "'finishedsquarefeet15',\n",
    "'finishedsquarefeet50',\n",
    "'fireplacecnt',\n",
    "'fullbathcnt',\n",
    "'garagecarcnt',\n",
    "'garagetotalsqft',\n",
    "'latitude',\n",
    "'longitude',\n",
    "'lotsizesquarefeet',\n",
    "'numberofstories',\n",
    "'poolsizesum',\n",
    "'roomcnt',\n",
    "'unitcnt',\n",
    "'yardbuildingsqft17',\n",
    "'yardbuildingsqft26',\n",
    "'taxvaluedollarcnt',\n",
    "'structuretaxvaluedollarcnt',\n",
    "'landtaxvaluedollarcnt',\n",
    "'taxamount','taxdelinquencyyear']"
   ]
  },
  {
   "cell_type": "code",
   "execution_count": 3,
   "metadata": {
    "collapsed": true
   },
   "outputs": [],
   "source": [
    "categorical_features = ['airconditioningtypeid',\n",
    "'architecturalstyletypeid',\n",
    "'buildingqualitytypeid',\n",
    "'buildingclasstypeid',\n",
    "'fips',\n",
    "'fireplaceflag',\n",
    "'hashottuborspa',\n",
    "'heatingorsystemtypeid',\n",
    "'parcelid',\n",
    "'propertycountylandusecode',\n",
    "'propertylandusetypeid',\n",
    "'propertyzoningdesc',\n",
    "'rawcensustractandblock',\n",
    "'censustractandblock',\n",
    "'regionidcounty',\n",
    "'regionidcity',\n",
    "'regionidzip',\n",
    "'regionidneighborhood',\n",
    "'storytypeid',\n",
    "'typeconstructiontypeid',\n",
    "'yearbuilt',\n",
    "'assessmentyear',\n",
    "'taxdelinquencyflag']"
   ]
  },
  {
   "cell_type": "code",
   "execution_count": 4,
   "metadata": {
    "collapsed": true
   },
   "outputs": [],
   "source": [
    "bool_features = ['decktypeid',\n",
    "'poolcnt',\n",
    "'pooltypeid10',\n",
    "'pooltypeid2',\n",
    "'pooltypeid7']"
   ]
  },
  {
   "cell_type": "code",
   "execution_count": 5,
   "metadata": {
    "collapsed": true
   },
   "outputs": [],
   "source": [
    "to_be_converted_categorical_features = [feat for feat in categorical_features if feat not in list(prop16_df.select_dtypes('object').columns)]"
   ]
  },
  {
   "cell_type": "code",
   "execution_count": 6,
   "metadata": {
    "collapsed": false
   },
   "outputs": [],
   "source": [
    "for feat in to_be_converted_categorical_features:\n",
    "    prop16_df[feat] =  prop16_df[feat].astype(object)\n",
    "    prop17_df[feat] =  prop17_df[feat].astype(object)"
   ]
  },
  {
   "cell_type": "code",
   "execution_count": 7,
   "metadata": {
    "collapsed": true
   },
   "outputs": [],
   "source": [
    "for feat in bool_features:\n",
    "    prop16_df[feat] = prop16_df[feat].astype(bool)\n",
    "    prop17_df[feat] = prop17_df[feat].astype(bool)"
   ]
  },
  {
   "cell_type": "code",
   "execution_count": 8,
   "metadata": {
    "collapsed": false
   },
   "outputs": [],
   "source": [
    "train_16['parcelid'] = train_16.parcelid.astype(object)\n",
    "train_16_prop = train_16.merge(prop16_df,on='parcelid')\n",
    "train_17['parcelid'] = train_17.parcelid.astype(object)\n",
    "train_17_prop = train_17.merge(prop17_df,on='parcelid')"
   ]
  },
  {
   "cell_type": "code",
   "execution_count": 9,
   "metadata": {
    "collapsed": true
   },
   "outputs": [],
   "source": [
    "train = train_16_prop.append(train_17_prop)"
   ]
  },
  {
   "cell_type": "code",
   "execution_count": 10,
   "metadata": {
    "collapsed": true
   },
   "outputs": [],
   "source": [
    "test = pd.read_csv('./sample_submission.csv')['ParcelId']"
   ]
  },
  {
   "cell_type": "code",
   "execution_count": 11,
   "metadata": {
    "collapsed": true
   },
   "outputs": [],
   "source": [
    "from datetime import datetime"
   ]
  },
  {
   "cell_type": "code",
   "execution_count": 12,
   "metadata": {
    "collapsed": true
   },
   "outputs": [],
   "source": [
    "train.transactiondate = [datetime.strptime(row.transactiondate,\"%Y-%m-%d\") for i,row in train.iterrows()]"
   ]
  },
  {
   "cell_type": "code",
   "execution_count": 13,
   "metadata": {
    "collapsed": true
   },
   "outputs": [],
   "source": [
    "train['month'] = [row.transactiondate.month for i,row in train.iterrows()]\n",
    "train['day'] = [row.transactiondate.day for i,row in train.iterrows()]\n",
    "for col in ['month','day']:\n",
    "    train[col] = train[col].astype(object)"
   ]
  },
  {
   "cell_type": "code",
   "execution_count": 19,
   "metadata": {
    "collapsed": true
   },
   "outputs": [],
   "source": [
    "train.to_pickle('./train_full.pkl')"
   ]
  },
  {
   "cell_type": "code",
   "execution_count": null,
   "metadata": {
    "collapsed": true
   },
   "outputs": [],
   "source": []
  }
 ],
 "metadata": {
  "kernelspec": {
   "display_name": "Python [conda env:py27]",
   "language": "python",
   "name": "conda-env-py27-py"
  },
  "language_info": {
   "codemirror_mode": {
    "name": "ipython",
    "version": 2
   },
   "file_extension": ".py",
   "mimetype": "text/x-python",
   "name": "python",
   "nbconvert_exporter": "python",
   "pygments_lexer": "ipython2",
   "version": "2.7.12"
  }
 },
 "nbformat": 4,
 "nbformat_minor": 1
}
