{
 "cells": [
  {
   "cell_type": "code",
   "execution_count": 32,
   "metadata": {},
   "outputs": [
    {
     "data": {
      "text/plain": [
       "(300000, 59)"
      ]
     },
     "execution_count": 32,
     "metadata": {},
     "output_type": "execute_result"
    }
   ],
   "source": [
    "import pandas as pd\n",
    "import numpy as np\n",
    "\n",
    "# Get a random sample from the training set\n",
    "# properties_2016 = pd.read_table('/Users/David/Downloads/properties_2016.csv', sep = ',')\n",
    "# properties_2017 = pd.read_table('/Users/David/Downloads/properties_2017.csv', sep = ',')\n",
    "# properties = properties_2016.append(properties_2017, ignore_index=True)\n",
    "# total_rows = properties.shape[0]\n",
    "# properties['random_value'] = pd.Series(np.random.randn(total_rows), index=properties.index)\n",
    "# randomized_properties = properties.sort_values(by=['random_value'])\n",
    "# properties_subsample = randomized_properties.head(300000)\n",
    "# properties_subsample.to_csv(\"/Users/David/Desktop/Zillow/properties_subsample.tsv\", sep='\\t', index=False)\n",
    "# TODO: Filter out records that weren't sold in training period, since they provide effectively no information\n",
    "\n",
    "properties_subsample = pd.read_table('/Users/David/Desktop/Zillow/properties_subsample.tsv')\n",
    "properties_subsample.shape\n"
   ]
  }
 ],
 "metadata": {
  "kernelspec": {
   "display_name": "Python 3",
   "language": "python",
   "name": "python3"
  },
  "language_info": {
   "codemirror_mode": {
    "name": "ipython",
    "version": 3
   },
   "file_extension": ".py",
   "mimetype": "text/x-python",
   "name": "python",
   "nbconvert_exporter": "python",
   "pygments_lexer": "ipython3",
   "version": "3.6.3"
  }
 },
 "nbformat": 4,
 "nbformat_minor": 2
}
